{
 "cells": [
  {
   "cell_type": "code",
   "execution_count": 1,
   "metadata": {},
   "outputs": [],
   "source": [
    "import sys\n",
    "import cv2\n",
    "import numpy as np\n",
    "import matplotlib.pyplot as plt\n",
    "import os"
   ]
  },
  {
   "cell_type": "code",
   "execution_count": 29,
   "metadata": {},
   "outputs": [
    {
     "name": "stdout",
     "output_type": "stream",
     "text": [
      "center value [42 61 98]\n"
     ]
    }
   ],
   "source": [
    "img = cv2.imread('./fig2/puppy.bmp')\n",
    "\n",
    "h, w = img.shape[:2]\n",
    "X = w//2\n",
    "y = h//2\n",
    "\n",
    "img[170:220, 280:340] = 255, 0, 0\n",
    "img[170:220, 420:480] = 0, 0, 255\n",
    "img[190:200, 340:420] = 0, 0, 0\n",
    "\n",
    "print('center value', img[X, y])\n",
    "\n",
    "if img is None:\n",
    "    print('이미지 리드 실패')\n",
    "    sys.exit()\n",
    "    \n",
    "cv2.imshow('img', img)\n",
    "\n",
    "while 1:\n",
    "    if cv2.waitKey() == 27:\n",
    "        break\n",
    "\n",
    "cv2.destroyAllWindows()"
   ]
  },
  {
   "cell_type": "code",
   "execution_count": 46,
   "metadata": {},
   "outputs": [],
   "source": [
    "## 영상 생성\n",
    "\n",
    "img1 = np.zeros((400, 600, 3), dtype=np.uint8)\n",
    "img2 = np.ones((400, 600), dtype=np.uint8)*255\n",
    "img3 = np.full((400, 600, 3), 255, dtype=np.uint8)\n",
    "\n",
    "cv2.imshow('img1', img1)\n",
    "cv2.imshow('img2', img2)\n",
    "cv2.imshow('img3', img3)\n",
    "cv2.waitKey()\n",
    "cv2.destroyAllWindows()"
   ]
  },
  {
   "cell_type": "code",
   "execution_count": 50,
   "metadata": {},
   "outputs": [],
   "source": [
    "## 영상 복사\n",
    "\n",
    "img = cv2.imread('./fig2/puppy.bmp')\n",
    "img1 = img\n",
    "img2 = img.copy()\n",
    "\n",
    "img[50:100, 100:300] = 0 , 255, 128\n",
    "\n",
    "if img is None:\n",
    "    print('이미지 리드 실패')\n",
    "    sys.exit()\n",
    "    \n",
    "cv2.namedWindow('img', cv2.WINDOW_AUTOSIZE)\n",
    "cv2.imshow('img', img)\n",
    "cv2.imshow('img1', img1)\n",
    "cv2.imshow('img2', img2)\n",
    "\n",
    "while 1:\n",
    "    if cv2.waitKey():\n",
    "        break\n",
    "\n",
    "cv2.destroyAllWindows()"
   ]
  },
  {
   "cell_type": "code",
   "execution_count": 64,
   "metadata": {},
   "outputs": [],
   "source": [
    "img = cv2.imread('./fig2/puppy.bmp')\n",
    "\n",
    "img1 = img[200:400, 300:500]\n",
    "img2 = img[200:400, 300:500].copy()\n",
    "\n",
    "cv2.circle(img1, (115, 95), 50, (0, 0, 255), 5, cv2.LINE_AA)\n",
    "cv2.circle(img2, (115, 95), 50, (255, 0, 255), -1, cv2.LINE_AA)\n",
    "\n",
    "if img is None:\n",
    "    print('이미지 리드 실패')\n",
    "    sys.exit()\n",
    "    \n",
    "cv2.namedWindow('img', cv2.WINDOW_AUTOSIZE)\n",
    "cv2.imshow('img', img)\n",
    "cv2.imshow('img1', img1)\n",
    "cv2.imshow('img2', img2)\n",
    "\n",
    "while 1:\n",
    "    if cv2.waitKey():\n",
    "        break\n",
    "\n",
    "cv2.destroyAllWindows()"
   ]
  },
  {
   "cell_type": "code",
   "execution_count": 111,
   "metadata": {},
   "outputs": [
    {
     "name": "stdout",
     "output_type": "stream",
     "text": [
      "img size: 1000 x 1000\n"
     ]
    }
   ],
   "source": [
    "img = cv2.imread('./fig2/rudolf.png')\n",
    "\n",
    "h, w = img.shape[:2]\n",
    "print('img size: {} x {}'.format(w, h))\n",
    "\n",
    "img1 = img[400:550, 400:600]\n",
    "img2 = img[400:550, 400:600].copy()\n",
    "\n",
    "cv2.circle(img1, (55, 39), 17, (0, 0, 255), -1, cv2.LINE_AA)\n",
    "cv2.circle(img1, (153, 39), 17, (255, 0, 0), -1, cv2.LINE_AA)\n",
    "cv2.circle(img1, (105, 100), 55, (0, 0, 255), -1, cv2.LINE_AA)\n",
    "\n",
    "if img is None:\n",
    "    print('이미지 리드 실패')\n",
    "    sys.exit()\n",
    "    \n",
    "cv2.namedWindow('img', cv2.WINDOW_AUTOSIZE)\n",
    "cv2.imshow('img', img)\n",
    "cv2.imshow('img1', img1)\n",
    "cv2.imshow('img2', img2)\n",
    "\n",
    "while 1:\n",
    "    if cv2.waitKey():\n",
    "        break\n",
    "\n",
    "cv2.destroyAllWindows()"
   ]
  }
 ],
 "metadata": {
  "kernelspec": {
   "display_name": "py_cpu",
   "language": "python",
   "name": "python3"
  },
  "language_info": {
   "codemirror_mode": {
    "name": "ipython",
    "version": 3
   },
   "file_extension": ".py",
   "mimetype": "text/x-python",
   "name": "python",
   "nbconvert_exporter": "python",
   "pygments_lexer": "ipython3",
   "version": "3.9.16"
  },
  "orig_nbformat": 4
 },
 "nbformat": 4,
 "nbformat_minor": 2
}
