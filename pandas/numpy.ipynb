{
 "cells": [
  {
   "cell_type": "code",
   "execution_count": 2,
   "metadata": {},
   "outputs": [
    {
     "name": "stdout",
     "output_type": "stream",
     "text": [
      "2.0.1\n"
     ]
    }
   ],
   "source": [
    "# ! pip install pandas\n",
    "\n",
    "import pandas as pd\n",
    "import numpy as np\n",
    "\n",
    "print(pd.__version__)"
   ]
  },
  {
   "cell_type": "code",
   "execution_count": 4,
   "metadata": {},
   "outputs": [
    {
     "name": "stdout",
     "output_type": "stream",
     "text": [
      "[1, 2, 4, 5]\n",
      "[[1, 3, 4], [2, 2, 6]]\n",
      "[1, 4]\n",
      "[10, 'apple', True]\n"
     ]
    },
    {
     "data": {
      "text/plain": [
       "array(['10', 'apple', 'True'], dtype='<U11')"
      ]
     },
     "execution_count": 4,
     "metadata": {},
     "output_type": "execute_result"
    }
   ],
   "source": [
    "## list\n",
    "\n",
    "a = [1, 2, 4, 5]\n",
    "a[1:3]\n",
    "print(a)\n",
    "## \n",
    "b = [[1, 3, 4],\n",
    "     [2, 2, 6]]\n",
    "print(b)\n",
    "\n",
    "print([b[0][0], b[0][2]])\n",
    "\n",
    "##\n",
    "c = [10, 'apple', True]\n",
    "print(c)\n",
    "\n",
    "np.array(c)"
   ]
  },
  {
   "cell_type": "code",
   "execution_count": 5,
   "metadata": {},
   "outputs": [
    {
     "name": "stdout",
     "output_type": "stream",
     "text": [
      "a =  [0 1 2 3 4]\n",
      "<class 'numpy.ndarray'>\n",
      "[2 3 4]\n",
      "a.shape =  (5,)\n",
      "dtype int32\n"
     ]
    }
   ],
   "source": [
    "## numpy\n",
    "\n",
    "a = np.array([0, 1, 2, 3, 4])\n",
    "print(\"a = \", a)\n",
    "print(type(a))\n",
    "# print(a.dtype)\n",
    "\n",
    "print(a[2:])\n",
    "\n",
    "## attribute\n",
    "print(\"a.shape = \", a.shape)\n",
    "print(\"dtype\", a.dtype)\n"
   ]
  },
  {
   "cell_type": "code",
   "execution_count": 31,
   "metadata": {},
   "outputs": [
    {
     "name": "stdout",
     "output_type": "stream",
     "text": [
      "[[1 2]\n",
      " [4 5]\n",
      " [7 8]]\n",
      "(3, 2)\n",
      "int32\n"
     ]
    }
   ],
   "source": [
    "# print(list(range(1, 6)))\n",
    "\n",
    "array = np.array([range(i, i+2) for i in [1, 4, 7]])\n",
    "print(array)\n",
    "\n",
    "print(array.shape)\n",
    "print(array.dtype)"
   ]
  },
  {
   "cell_type": "code",
   "execution_count": 34,
   "metadata": {},
   "outputs": [
    {
     "name": "stdout",
     "output_type": "stream",
     "text": [
      "(2,)\n",
      "(1, 2)\n"
     ]
    }
   ],
   "source": [
    "a = np.array([0, 1])       # 벡터\n",
    "b = np.array([[0, 1]])     # 메트릭스\n",
    "\n",
    "print(a.shape)\n",
    "print(b.shape)"
   ]
  },
  {
   "cell_type": "code",
   "execution_count": 40,
   "metadata": {},
   "outputs": [
    {
     "name": "stdout",
     "output_type": "stream",
     "text": [
      "[[1. 0. 0. 0. 0.]\n",
      " [0. 1. 0. 0. 0.]\n",
      " [0. 0. 1. 0. 0.]]\n",
      "[[1. 0. 0.]\n",
      " [0. 1. 0.]\n",
      " [0. 0. 1.]]\n",
      "[[1. 0. 0. 0. 0.]\n",
      " [0. 1. 0. 0. 0.]\n",
      " [0. 0. 1. 0. 0.]\n",
      " [0. 0. 0. 1. 0.]\n",
      " [0. 0. 0. 0. 1.]]\n"
     ]
    }
   ],
   "source": [
    "##\n",
    "print(np.eye(3, 5))\n",
    "\n",
    "print(np.identity(3))\n",
    "print(np.identity(5))"
   ]
  },
  {
   "cell_type": "code",
   "execution_count": 43,
   "metadata": {},
   "outputs": [
    {
     "data": {
      "text/plain": [
       "array([[0., 0., 0., 0.],\n",
       "       [0., 0., 0., 0.],\n",
       "       [0., 0., 0., 0.]])"
      ]
     },
     "execution_count": 43,
     "metadata": {},
     "output_type": "execute_result"
    }
   ],
   "source": [
    "##\n",
    "np.zeros([3, 4])"
   ]
  },
  {
   "cell_type": "code",
   "execution_count": 46,
   "metadata": {},
   "outputs": [
    {
     "data": {
      "text/plain": [
       "array([[100., 100., 100., 100., 100.],\n",
       "       [100., 100., 100., 100., 100.],\n",
       "       [100., 100., 100., 100., 100.]])"
      ]
     },
     "execution_count": 46,
     "metadata": {},
     "output_type": "execute_result"
    }
   ],
   "source": [
    "np.ones((3, 5))\n",
    "np.ones((3, 5)) * 100"
   ]
  },
  {
   "cell_type": "code",
   "execution_count": 49,
   "metadata": {},
   "outputs": [
    {
     "data": {
      "text/plain": [
       "array([[4, 4, 4, 4],\n",
       "       [4, 4, 4, 4],\n",
       "       [4, 4, 4, 4],\n",
       "       [4, 4, 4, 4],\n",
       "       [4, 4, 4, 4]])"
      ]
     },
     "execution_count": 49,
     "metadata": {},
     "output_type": "execute_result"
    }
   ],
   "source": [
    "np.full((5, 4), 4)"
   ]
  },
  {
   "cell_type": "code",
   "execution_count": 51,
   "metadata": {},
   "outputs": [
    {
     "data": {
      "text/plain": [
       "array([[1, 2],\n",
       "       [3, 4]])"
      ]
     },
     "execution_count": 51,
     "metadata": {},
     "output_type": "execute_result"
    }
   ],
   "source": [
    "np.array([[1, 2],\n",
    "          [3, 4]])"
   ]
  },
  {
   "cell_type": "code",
   "execution_count": 55,
   "metadata": {},
   "outputs": [
    {
     "name": "stdout",
     "output_type": "stream",
     "text": [
      "[1, 3, 5, 7]\n",
      "[1 3 5 7]\n"
     ]
    }
   ],
   "source": [
    "## range\n",
    "\n",
    "print(list(range(1, 8, 2)))\n",
    "\n",
    "\n",
    "print(np.arange(1, 8, 2))"
   ]
  },
  {
   "cell_type": "code",
   "execution_count": 16,
   "metadata": {},
   "outputs": [
    {
     "name": "stdout",
     "output_type": "stream",
     "text": [
      "[[ 1  3  5  7  9]\n",
      " [ 3  5  7  9 11]]\n",
      "shape =  (2, 5)\n",
      "dtype =  int64\n"
     ]
    }
   ],
   "source": [
    "# A = np.A([[1, 3, 5, 7, 9],\n",
    "#                  [3, 5, 7, 9, 11]], dtype = np.int64)\n",
    "\n",
    "A1 = np.arange(1, 10, 2)\n",
    "A2 = np.arange(3, 12, 2)\n",
    "A = np.array([A1, A2], np.int64)\n",
    "\n",
    "print(A)\n",
    "print(\"shape = \", A.shape)\n",
    "print(\"dtype = \", A.dtype)\n",
    "\n"
   ]
  },
  {
   "cell_type": "code",
   "execution_count": 90,
   "metadata": {},
   "outputs": [
    {
     "name": "stdout",
     "output_type": "stream",
     "text": [
      "[[2 0 0 0 0]\n",
      " [0 2 0 0 0]\n",
      " [0 0 2 0 0]\n",
      " [0 0 0 2 0]\n",
      " [0 0 0 0 2]]\n",
      "shape =  (5, 5)\n",
      "dtype =  int64\n"
     ]
    }
   ],
   "source": [
    "I = np.identity(5, np.int64)*2\n",
    "\n",
    "print(I)\n",
    "print(\"shape = \", I.shape)\n",
    "print(\"dtype = \", I.dtype)"
   ]
  },
  {
   "cell_type": "code",
   "execution_count": 96,
   "metadata": {},
   "outputs": [
    {
     "name": "stdout",
     "output_type": "stream",
     "text": [
      "[ 0  1  2  3  4  5  6  7  8  9 10 11]\n",
      "\n",
      "[[ 0  1  2  3]\n",
      " [ 4  5  6  7]\n",
      " [ 8  9 10 11]]\n",
      "\n",
      "[[ 0  1  2]\n",
      " [ 3  4  5]\n",
      " [ 6  7  8]\n",
      " [ 9 10 11]]\n"
     ]
    }
   ],
   "source": [
    "arr = np.arange(12)\n",
    "arr_3by4 = arr.reshape(3, 4)   # reshape : 데이터를 *by*으로 바꾼다.\n",
    "arr_by3 = arr.reshape(-1, 3)   # -1 : 뒤에가 맞으면 앞에는 알아서 만드세요.\n",
    "\n",
    "\n",
    "print(arr)\n",
    "print()\n",
    "print(arr_3by4)\n",
    "print()\n",
    "print(arr_by3)"
   ]
  },
  {
   "cell_type": "code",
   "execution_count": 100,
   "metadata": {},
   "outputs": [
    {
     "name": "stdout",
     "output_type": "stream",
     "text": [
      "[[ 0  1  2]\n",
      " [ 3  4  5]\n",
      " [ 6  7  8]\n",
      " [ 9 10 11]]\n",
      "[0, 1, 2, 3, 4, 5, 6, 7, 8, 9, 10, 11]\n",
      "[[ 0  3  6  9]\n",
      " [ 1  4  7 10]\n",
      " [ 2  5  8 11]]\n"
     ]
    }
   ],
   "source": [
    "print(arr_by3)\n",
    "print(list(arr_by3.flat))\n",
    "\n",
    "print(arr_by3.T)        # .T: 열과 행을 바꿈 \n"
   ]
  },
  {
   "cell_type": "code",
   "execution_count": 17,
   "metadata": {},
   "outputs": [
    {
     "name": "stdout",
     "output_type": "stream",
     "text": [
      "X = \n",
      " [[[0]\n",
      "  [1]\n",
      "  [2]]]\n",
      "(1, 3, 1)\n",
      "[[[0 1 2]]]\n",
      "[[[0]]\n",
      "\n",
      " [[1]]\n",
      "\n",
      " [[2]]]\n"
     ]
    }
   ],
   "source": [
    "X = np.array([[[0], [1], [2]]])\n",
    "print('X = \\n', X)\n",
    "print(X.shape)\n",
    "\n",
    "print(X.reshape(1, 1, 3))\n",
    "print(X.reshape(3, 1, 1))\n",
    "\n",
    "\n"
   ]
  },
  {
   "cell_type": "code",
   "execution_count": 42,
   "metadata": {},
   "outputs": [
    {
     "name": "stdout",
     "output_type": "stream",
     "text": [
      "[[[0]\n",
      "  [1]\n",
      "  [2]]]\n",
      "(1, 3, 1)\n",
      "\n",
      "(3, 1)\n",
      "[[0]\n",
      " [1]\n",
      " [2]]\n",
      "\n",
      "(1, 3)\n",
      "[[0 1 2]]\n"
     ]
    }
   ],
   "source": [
    "print(X)\n",
    "print(X.shape)\n",
    "\n",
    "X.squeeze().shape\n",
    "print()\n",
    "print(X.squeeze(axis=0).shape)\n",
    "print(X.squeeze(axis=0))\n",
    "print()\n",
    "print(X.squeeze(axis=2).shape)\n",
    "print(X.squeeze(axis=2))"
   ]
  },
  {
   "cell_type": "code",
   "execution_count": 50,
   "metadata": {},
   "outputs": [
    {
     "name": "stdout",
     "output_type": "stream",
     "text": [
      "[[1 2 3]\n",
      " [3 5 1]\n",
      " [1 2 1]]\n"
     ]
    }
   ],
   "source": [
    "## vstack\n",
    "a = np.array([1, 2, 3])\n",
    "b = np.array([3, 5, 1])\n",
    "c = np.array([1, 2, 1])\n",
    "\n",
    "# print(a, b, c)\n",
    "d = np.vstack([a, b, c])\n",
    "print(d)\n"
   ]
  },
  {
   "cell_type": "code",
   "execution_count": 55,
   "metadata": {},
   "outputs": [
    {
     "data": {
      "text/plain": [
       "array([1, 2, 3, 3, 5, 1])"
      ]
     },
     "execution_count": 55,
     "metadata": {},
     "output_type": "execute_result"
    }
   ],
   "source": [
    "a = np.array([1, 2, 3])\n",
    "b = np.array([3, 5, 1])\n",
    "\n",
    "np.hstack([a, b])"
   ]
  },
  {
   "cell_type": "code",
   "execution_count": 64,
   "metadata": {},
   "outputs": [
    {
     "name": "stdout",
     "output_type": "stream",
     "text": [
      "[1 2 3 4 5] [2 3 4 5 6]\n",
      "hstack = \n",
      " [1 2 3 4 5 2 3 4 5 6]\n",
      "vstack = \n",
      " [[1 2 3 4 5]\n",
      " [2 3 4 5 6]]\n",
      "column_stack = \n",
      " [[1 2]\n",
      " [2 3]\n",
      " [3 4]\n",
      " [4 5]\n",
      " [5 6]]\n"
     ]
    }
   ],
   "source": [
    "a = np.arange(1, 6)\n",
    "b = np.arange(2, 7)\n",
    "\n",
    "print(a, b)\n",
    "print('hstack = \\n', np.hstack([a, b]))\n",
    "print('vstack = \\n', np.vstack([a, b]))\n",
    "print('column_stack = \\n', np.column_stack([a, b]))"
   ]
  },
  {
   "cell_type": "code",
   "execution_count": 77,
   "metadata": {},
   "outputs": [
    {
     "name": "stdout",
     "output_type": "stream",
     "text": [
      "[[1 2 6]\n",
      " [2 4 6]\n",
      " [3 5 5]\n",
      " [4 8 4]]\n"
     ]
    }
   ],
   "source": [
    "A = [[1, 2, 3, 4],\n",
    "     [2, 4, 5, 8]]\n",
    "\n",
    "B = [6, 6, 5, 4]\n",
    "\n",
    "\n",
    "print(np.vstack([A, B]).T)"
   ]
  },
  {
   "cell_type": "code",
   "execution_count": 82,
   "metadata": {},
   "outputs": [
    {
     "name": "stdout",
     "output_type": "stream",
     "text": [
      "[0.11604937 0.10861796 0.16730686 0.77684286 0.15769854]\n",
      "\n",
      "[[0.40485548 0.8001514  0.00313561 0.28233012 0.16028119]\n",
      " [0.67431834 0.25140625 0.89843829 0.7183346  0.63547612]\n",
      " [0.61809953 0.14148147 0.35688218 0.74518387 0.69700435]]\n"
     ]
    }
   ],
   "source": [
    "## Random samling\n",
    "\n",
    "## Uniform (균일분포), integer uniform, Gaussian 분포 (정규분포)\n",
    "\n",
    "\n",
    "## Uniform\n",
    "\n",
    "print(np.random.rand(5))\n",
    "print()\n",
    "print(np.random.rand(3, 5))"
   ]
  },
  {
   "cell_type": "code",
   "execution_count": 89,
   "metadata": {},
   "outputs": [
    {
     "name": "stdout",
     "output_type": "stream",
     "text": [
      "[2 6 6 8 7 9 7 5 7 3]\n",
      "[[9 8]\n",
      " [1 1]\n",
      " [8 5]]\n"
     ]
    }
   ],
   "source": [
    "print(np.random.randint(1, 10, 10))\n",
    "print(np.random.randint(1, 10, (3, 2)))"
   ]
  },
  {
   "cell_type": "code",
   "execution_count": 284,
   "metadata": {},
   "outputs": [
    {
     "name": "stdout",
     "output_type": "stream",
     "text": [
      "[[169.96796232 171.18995403 172.29739344]\n",
      " [173.25809478 171.44170952 172.5468607 ]\n",
      " [170.39610156 171.74138374 170.55487412]]\n"
     ]
    }
   ],
   "source": [
    "# print(np.random.randn(100))  \n",
    "print(np.random.normal(172, 1, (3, 3)))  # 172 기준으로 1 만큼 랜덤값"
   ]
  },
  {
   "cell_type": "code",
   "execution_count": 294,
   "metadata": {},
   "outputs": [
    {
     "name": "stdout",
     "output_type": "stream",
     "text": [
      "[10.3155626  11.06950015  9.03636207 10.12774556 10.18911699 10.27910314\n",
      "  9.36641113 10.80878135  8.97004969  9.60268807]\n",
      "9.976532075020678\n",
      "10.158431277624942\n"
     ]
    }
   ],
   "source": [
    "a = np.random.normal(10, 1, 10)\n",
    "\n",
    "print(a)\n",
    "print(a.mean())\n",
    "print(np.median(a))"
   ]
  },
  {
   "cell_type": "code",
   "execution_count": 298,
   "metadata": {},
   "outputs": [
    {
     "name": "stdout",
     "output_type": "stream",
     "text": [
      "[[1 2]\n",
      " [3 4]]\n",
      "2.5\n",
      "[2. 3.]\n",
      "[1.5 3.5]\n"
     ]
    }
   ],
   "source": [
    "a = np.array([[1, 2], [3, 4]])\n",
    "\n",
    "print(a)\n",
    "print(np.mean(a))\n",
    "print(np.mean(a, axis= 0))\n",
    "print(np.mean(a, axis= 1))"
   ]
  },
  {
   "cell_type": "code",
   "execution_count": 302,
   "metadata": {},
   "outputs": [
    {
     "name": "stdout",
     "output_type": "stream",
     "text": [
      "1.25\n",
      "1.118033988749895\n",
      "2.5\n",
      "4\n"
     ]
    }
   ],
   "source": [
    "print(np.var(a))\n",
    "print(np.std(a))\n",
    "print(np.mean(a))\n",
    "print(np.max(a))"
   ]
  },
  {
   "cell_type": "code",
   "execution_count": 7,
   "metadata": {},
   "outputs": [
    {
     "name": "stdout",
     "output_type": "stream",
     "text": [
      "[[1 2 3 4]\n",
      " [4 5 6 7]\n",
      " [3 2 1 0]]\n",
      "(3, 4)\n",
      "int32\n"
     ]
    }
   ],
   "source": [
    "\n",
    "\n",
    "a = np.array([1, 2, 3, 4])\n",
    "b = np.array([4, 5, 6, 7])\n",
    "c = np.array([3, 2, 1, 0])\n",
    "\n",
    "A = np.vstack([a, b, c])\n",
    "\n",
    "print(A)\n",
    "print(A.shape)\n",
    "print(A.dtype)\n"
   ]
  },
  {
   "cell_type": "code",
   "execution_count": 16,
   "metadata": {},
   "outputs": [
    {
     "name": "stdout",
     "output_type": "stream",
     "text": [
      "[1 2 3 4]\n",
      "[3 2 1 0]\n",
      "\n",
      "[1 4 3]\n",
      "[4 7 0]\n",
      "\n",
      "[[2 3 4]\n",
      " [5 6 7]]\n",
      "\n",
      "[2 0]\n"
     ]
    }
   ],
   "source": [
    "## indexing \n",
    "print(A[0])     # 0번째 row만 출력\n",
    "print(A[2])     # 2번째 row만 출력\n",
    "print()\n",
    "\n",
    "## column indexing\n",
    "print(A[:, 0])  # 0번째 column만 출력\n",
    "print(A[:, 3])  # 3번째 column만 출력\n",
    "print()\n",
    "\n",
    "## row and column indexing\n",
    "print(A[0:2, 1:])\n",
    "print()\n",
    "\n",
    "## Fancy indexing\n",
    "print(A[[0, 2], [1, 3]])    # 0, 1 과 2,3을 추출\n",
    "\n"
   ]
  }
 ],
 "metadata": {
  "kernelspec": {
   "display_name": "pandas_jm",
   "language": "python",
   "name": "python3"
  },
  "language_info": {
   "codemirror_mode": {
    "name": "ipython",
    "version": 3
   },
   "file_extension": ".py",
   "mimetype": "text/x-python",
   "name": "python",
   "nbconvert_exporter": "python",
   "pygments_lexer": "ipython3",
   "version": "3.11.3"
  },
  "orig_nbformat": 4
 },
 "nbformat": 4,
 "nbformat_minor": 2
}
