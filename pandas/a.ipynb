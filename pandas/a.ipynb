{
 "cells": [
  {
   "cell_type": "code",
   "execution_count": 1,
   "metadata": {},
   "outputs": [],
   "source": [
    "import pandas as pd\n",
    "import numpy as np\n"
   ]
  },
  {
   "cell_type": "code",
   "execution_count": 8,
   "metadata": {},
   "outputs": [
    {
     "name": "stdout",
     "output_type": "stream",
     "text": [
      "{'a': 1, 'b': 2, 'c': 3}\n",
      "<class 'dict'>\n",
      "3\n",
      "a    1\n",
      "b    2\n",
      "c    3\n",
      "dtype: int64\n",
      "type sr =  <class 'pandas.core.series.Series'>\n"
     ]
    }
   ],
   "source": [
    "dict_data = {'a': 1, 'b': 2, 'c': 3}\n",
    "\n",
    "print(dict_data)\n",
    "print(type(dict_data))\n",
    "print(len(dict_data))\n",
    "\n",
    "sr = pd.Series(dict_data)\n",
    "print(sr)\n",
    "print('type sr = ', type(sr))"
   ]
  },
  {
   "cell_type": "code",
   "execution_count": 19,
   "metadata": {},
   "outputs": [
    {
     "name": "stdout",
     "output_type": "stream",
     "text": [
      "Key = \n",
      " dict_keys(['a', 'b', 'c'])\n",
      "values = \n",
      " dict_values([1, 2, 3])\n",
      "items = \n",
      " dict_items([('a', 1), ('b', 2), ('c', 3)])\n",
      "\n",
      "Index(['a', 'b', 'c'], dtype='object')\n",
      "[1 2 3]\n"
     ]
    }
   ],
   "source": [
    "## pd.Serise\n",
    "print('Key = \\n', dict_data.keys())\n",
    "print('values = \\n', dict_data.values())\n",
    "print('items = \\n', dict_data.items())\n",
    "\n",
    "print()\n",
    "sr\n",
    "print(sr.index)\n",
    "print(sr.values)"
   ]
  },
  {
   "cell_type": "code",
   "execution_count": 3,
   "metadata": {},
   "outputs": [
    {
     "name": "stdout",
     "output_type": "stream",
     "text": [
      "Index([1, 2, 3], dtype='int64')\n",
      "['apple' 'banana' 'grape']\n",
      "1     apple\n",
      "2    banana\n",
      "3     grape\n",
      "dtype: object\n"
     ]
    }
   ],
   "source": [
    "dict_data = {1: 'apple', 2: 'banana', 3: 'grape'}\n",
    "sr_fruit = pd.Series(dict_data)\n",
    "print(sr_fruit.index)\n",
    "print(sr_fruit.values)\n",
    "\n",
    "## From list\n",
    "sr_list = pd.Series(['apple', 'banana', 'grape'],\n",
    "                    index= [1, 2, 3])\n",
    "print(sr_list)\n"
   ]
  },
  {
   "cell_type": "code",
   "execution_count": 4,
   "metadata": {},
   "outputs": [
    {
     "ename": "NameError",
     "evalue": "name 'sr' is not defined",
     "output_type": "error",
     "traceback": [
      "\u001b[1;31m---------------------------------------------------------------------------\u001b[0m",
      "\u001b[1;31mNameError\u001b[0m                                 Traceback (most recent call last)",
      "Cell \u001b[1;32mIn[4], line 1\u001b[0m\n\u001b[1;32m----> 1\u001b[0m \u001b[39mprint\u001b[39m(sr\u001b[39m.\u001b[39mlist)\n\u001b[0;32m      2\u001b[0m \u001b[39mprint\u001b[39m(sr\u001b[39m.\u001b[39mlist\u001b[39m.\u001b[39mindex[\u001b[39m0\u001b[39m:\u001b[39m2\u001b[39m])\n",
      "\u001b[1;31mNameError\u001b[0m: name 'sr' is not defined"
     ]
    }
   ],
   "source": [
    "# print(sr.list)\n",
    "# print(sr.list.index[0:2])"
   ]
  },
  {
   "cell_type": "code",
   "execution_count": 10,
   "metadata": {},
   "outputs": [
    {
     "name": "stdout",
     "output_type": "stream",
     "text": [
      "1    2019-01-02\n",
      "2          3.14\n",
      "3           ABC\n",
      "4           100\n",
      "5          True\n",
      "dtype: object\n",
      "1    2019-01-02\n",
      "2          3.14\n",
      "3           ABC\n",
      "dtype: object\n",
      "2    3.14\n",
      "3     ABC\n",
      "dtype: object\n"
     ]
    }
   ],
   "source": [
    "sr_form_list = pd.Series(['2019-01-02', 3.14, 'ABC', 100, True],\n",
    "                         index= range(1, 6))\n",
    "\n",
    "print(sr_form_list)\n",
    "\n",
    "sr_form_list[1]\n",
    "print(sr_form_list.loc[1:3])\n",
    "print(sr_form_list.iloc[1:3])   # i : 넘파이의 규칙을 따름\n"
   ]
  },
  {
   "cell_type": "code",
   "execution_count": 13,
   "metadata": {},
   "outputs": [
    {
     "name": "stdout",
     "output_type": "stream",
     "text": [
      "RangeIndex(start=1, stop=6, step=1)\n",
      "[1, 2, 3, 4, 5]\n"
     ]
    }
   ],
   "source": [
    "print(sr_form_list.index)\n",
    "print(list(sr_form_list.index))\n"
   ]
  },
  {
   "cell_type": "code",
   "execution_count": 28,
   "metadata": {},
   "outputs": [
    {
     "name": "stdout",
     "output_type": "stream",
     "text": [
      "이름              영인\n",
      "생년월일    2010-05-05\n",
      "성별               여\n",
      "학생여부          True\n",
      "dtype: object\n",
      "\n",
      "이름              영인\n",
      "생년월일    2010-05-05\n",
      "성별               여\n",
      "dtype: object\n",
      "이름        영인\n",
      "학생여부    True\n",
      "dtype: object\n"
     ]
    }
   ],
   "source": [
    "tup_data = ('영인', '2010-05-05', '여', True)\n",
    "\n",
    "sr_form_tup = pd.Series(tup_data,\n",
    "                        ['이름', '생년월일', '성별', '학생여부'])\n",
    "\n",
    "print(sr_form_tup)\n",
    "sr_form_tup['이름']\n",
    "print()\n",
    "print(sr_form_tup.loc['이름':'성별'])\n",
    "sr_form_tup.iloc[:2]\n",
    "print(sr_form_tup[['이름', '학생여부']])"
   ]
  },
  {
   "cell_type": "code",
   "execution_count": 48,
   "metadata": {},
   "outputs": [
    {
     "name": "stdout",
     "output_type": "stream",
     "text": [
      "A     apple\n",
      "B    tomato\n",
      "C    banana\n",
      "D     melon\n",
      "E     grape\n",
      "F      pear\n",
      "dtype: object\n",
      "\n",
      "B    tomato\n",
      "E     grape\n",
      "dtype: object\n",
      "B    tomato\n",
      "E     grape\n",
      "dtype: object\n",
      "\n",
      "B    tomato\n",
      "C    banana\n",
      "D     melon\n",
      "E     grape\n",
      "dtype: object\n",
      "B    tomato\n",
      "C    banana\n",
      "D     melon\n",
      "E     grape\n",
      "dtype: object\n"
     ]
    }
   ],
   "source": [
    "data = ('apple', 'tomato', 'banana', 'melon', 'grape', 'pear')\n",
    "sr_form_tup = pd.Series(data,\n",
    "                        ['A', 'B', 'C', 'D', 'E', 'F'])\n",
    "\n",
    "print(sr_form_tup)\n",
    "print()\n",
    "\n",
    "print(sr_form_tup.loc[['B', 'E']])\n",
    "print(sr_form_tup.iloc[[1, 4]])\n",
    "print()\n",
    "\n",
    "print(sr_form_tup.loc['B':'E'])\n",
    "print(sr_form_tup.iloc[1:5])"
   ]
  },
  {
   "cell_type": "code",
   "execution_count": 51,
   "metadata": {},
   "outputs": [
    {
     "name": "stdout",
     "output_type": "stream",
     "text": [
      "A     apple\n",
      "B    tomato\n",
      "C    banana\n",
      "D     melon\n",
      "E     grape\n",
      "F      pear\n",
      "dtype: object\n",
      "\n",
      "C    banana\n",
      "E     grape\n",
      "dtype: object\n",
      "C    banana\n",
      "E     grape\n",
      "dtype: object\n",
      "\n",
      "B    tomato\n",
      "C    banana\n",
      "D     melon\n",
      "E     grape\n",
      "dtype: object\n",
      "B    tomato\n",
      "C    banana\n",
      "D     melon\n",
      "E     grape\n",
      "dtype: object\n"
     ]
    }
   ],
   "source": [
    "fruit = ['apple', 'tomato', 'banana', 'melon', 'grape', 'pear']\n",
    "\n",
    "sr_fruit = pd.Series(fruit,\n",
    "                     index= list('ABCDEF')) \n",
    "print(sr_fruit)\n",
    "print()\n",
    "\n",
    "## Indexing, iloc, loc\n",
    "print(sr_fruit.loc[['C', 'E']])\n",
    "print(sr_fruit.iloc[[2, 4]])\n",
    "print()\n",
    "\n",
    "print(sr_fruit.loc['B':'E'])\n",
    "print(sr_fruit.iloc[1:5])"
   ]
  },
  {
   "cell_type": "code",
   "execution_count": 57,
   "metadata": {},
   "outputs": [
    {
     "name": "stdout",
     "output_type": "stream",
     "text": [
      "a    4\n",
      "b    5\n",
      "c    6\n",
      "d    7\n",
      "Name: variable, dtype: int16\n",
      "Kim     [10, 20]\n",
      "Park          20\n",
      "Hong          30\n",
      "dtype: object\n"
     ]
    }
   ],
   "source": [
    "sr1 = pd.Series(range(4, 8),\n",
    "                     index= list('abcd'),\n",
    "                     dtype= np.int16,\n",
    "                     name= 'variable') \n",
    "print(sr1)\n",
    "\n",
    "dict_type = {\n",
    "    'Kim': [10, 20],\n",
    "    'Park': 20,\n",
    "    'Hong': 30    \n",
    "}\n",
    "\n",
    "sr2 = pd.Series(dict_type)\n",
    "print(sr2)"
   ]
  },
  {
   "cell_type": "code",
   "execution_count": 62,
   "metadata": {},
   "outputs": [
    {
     "name": "stdout",
     "output_type": "stream",
     "text": [
      "{'c0': [1, 2, 3], 'c1': [4, 5, 6], 'c2': [7, 8, 9], 'c3': [10, 11, 12], 'c4': [14, 15, 16]}\n",
      "   c0  c1  c2  c3  c4\n",
      "1   1   4   7  10  14\n",
      "2   2   5   8  11  15\n",
      "3   3   6   9  12  16\n"
     ]
    }
   ],
   "source": [
    "## DataFrame\n",
    "\n",
    "dict_data = {\n",
    "    'c0': [1,2,3], 'c1': [4,5,6], 'c2': [7,8,9],\n",
    "    'c3': [10,11,12], 'c4': [14,15,16]\n",
    "}\n",
    "\n",
    "print(dict_data)\n",
    "\n",
    "df = pd.DataFrame(dict_data,\n",
    "                  index= range(1,4))\n",
    "print(df)"
   ]
  },
  {
   "cell_type": "code",
   "execution_count": 66,
   "metadata": {},
   "outputs": [
    {
     "name": "stdout",
     "output_type": "stream",
     "text": [
      "    수학  영어 성별     합격\n",
      "김씨  90  98  남   True\n",
      "이씨  80  89  남  False\n",
      "박씨  70  95  여   True\n"
     ]
    }
   ],
   "source": [
    "## DataFrame\n",
    "\n",
    "dict_data = {\n",
    "    '수학': [90,80,70], \n",
    "    '영어': [98,89,95], \n",
    "    '성별': ['남','남','여'],\n",
    "    '합격': [True,False,True]\n",
    "}\n",
    "\n",
    "# print(dict_data)\n",
    "\n",
    "df = pd.DataFrame(dict_data,\n",
    "                  ['김씨','이씨','박씨'])\n",
    "print(df)"
   ]
  },
  {
   "cell_type": "code",
   "execution_count": 71,
   "metadata": {},
   "outputs": [
    {
     "name": "stdout",
     "output_type": "stream",
     "text": [
      "    수학  영어 성별     합격\n",
      "김씨  90  98  남   True\n",
      "이씨  80  89  남  False\n",
      "박씨  70  95  여   True\n"
     ]
    }
   ],
   "source": [
    "dp_from_list =pd.DataFrame(\n",
    "    [[90,98,'남',True],\n",
    "     [80,89,'남',False],\n",
    "     [70,95,'여',True]],\n",
    "    columns=['수학','영어','성별','합격'],\n",
    "    index=['김씨','이씨','박씨']\n",
    ")\n",
    "\n",
    "print(dp_from_list)"
   ]
  },
  {
   "cell_type": "code",
   "execution_count": 73,
   "metadata": {},
   "outputs": [
    {
     "name": "stdout",
     "output_type": "stream",
     "text": [
      "    나이 성별   학교\n",
      "준서  15  남  덕영중\n",
      "예은  17  여  수리중\n"
     ]
    }
   ],
   "source": [
    "dp_from_list =pd.DataFrame(\n",
    "    [[15,'남','덕영중'],\n",
    "     [17,'여','수리중']],\n",
    "    columns=['나이','성별','학교'],\n",
    "    index=['준서','예은']\n",
    ")\n",
    "\n",
    "print(dp_from_list)"
   ]
  },
  {
   "cell_type": "code",
   "execution_count": 83,
   "metadata": {},
   "outputs": [
    {
     "name": "stdout",
     "output_type": "stream",
     "text": [
      "   color size  price   class\n",
      "1  green    M   13.5  class1\n",
      "2    red    L   15.3  class2\n"
     ]
    }
   ],
   "source": [
    "df = pd.DataFrame(\n",
    "    [['green', 'M', 13.5, 'class1'],\n",
    "     ['red', 'L', 15.3, 'class2']]\n",
    ")\n",
    "\n",
    "df.columns = ['color', 'size', 'price', 'class']\n",
    "df.index = range(1, 3)\n",
    "print(df)"
   ]
  },
  {
   "cell_type": "code",
   "execution_count": 92,
   "metadata": {},
   "outputs": [
    {
     "name": "stdout",
     "output_type": "stream",
     "text": [
      "    나이 성별   학교\n",
      "준서  15  남  영우중\n",
      "은별  17  여  에티중\n",
      "\n",
      "     연령 남녀   소속\n",
      "학생1  15  남  영우중\n",
      "학생2  17  여  에티중\n"
     ]
    }
   ],
   "source": [
    "## DataFrame 수정\n",
    "\n",
    "df = pd.DataFrame(\n",
    "    [[15,'남','영우중'],\n",
    "     [17, '여', '에티중']],\n",
    "     columns= ['나이', '성별', '학교'],\n",
    "     index= ['준서', '은별']\n",
    ")\n",
    "\n",
    "print(df)\n",
    "print()\n",
    "df.rename(columns= {'나이':'연령', \"성별\":\"남녀\", '학교':'소속'},\n",
    "          inplace= True)\n",
    "df.rename(index= {'준서':'학생1', '은별':'학생2'}, inplace= True)\n",
    "print(df)\n"
   ]
  },
  {
   "cell_type": "code",
   "execution_count": 96,
   "metadata": {},
   "outputs": [
    {
     "name": "stdout",
     "output_type": "stream",
     "text": [
      "    나이 성별   학교\n",
      "준서  15  남  영우중\n",
      "은별  17  여  에티중\n",
      "\n",
      "     연령 남녀   소속\n",
      "학생1  15  남  영우중\n",
      "학생2  17  여  에티중\n"
     ]
    }
   ],
   "source": [
    "## DataFrame 수정\n",
    "\n",
    "df = pd.DataFrame(\n",
    "    [[15,'남','영우중'],\n",
    "     [17, '여', '에티중']]\n",
    ")\n",
    "df.columns= ['나이', '성별', '학교']\n",
    "df.index= ['준서', '은별']\n",
    "\n",
    "\n",
    "print(df)\n",
    "print()\n",
    "df.rename(columns= {'나이':'연령', \"성별\":\"남녀\", '학교':'소속'},\n",
    "          inplace= True)\n",
    "df.rename(index= {'준서':'학생1', '은별':'학생2'}, inplace= True)\n",
    "print(df)\n"
   ]
  },
  {
   "cell_type": "code",
   "execution_count": 146,
   "metadata": {},
   "outputs": [
    {
     "name": "stdout",
     "output_type": "stream",
     "text": [
      "    수학  영어   음악   체육\n",
      "서준  90  98   85  100\n",
      "우현  80  89   95   90\n",
      "인아  70  95  100   95\n",
      "수학     90\n",
      "영어     98\n",
      "음악     85\n",
      "체육    100\n",
      "Name: 서준, dtype: int64\n"
     ]
    },
    {
     "data": {
      "text/plain": [
       "서준    90\n",
       "우현    80\n",
       "인아    70\n",
       "Name: 수학, dtype: int64"
      ]
     },
     "execution_count": 146,
     "metadata": {},
     "output_type": "execute_result"
    }
   ],
   "source": [
    "exam_data = {\n",
    "    '수학': [90,80,70], \n",
    "    '영어': [98,89,95], \n",
    "    '음악': [85,95,100],\n",
    "    '체육': [100,90,95]\n",
    "}\n",
    "\n",
    "df = pd.DataFrame(exam_data,\n",
    "                  index= ['서준', '우현', '인아'])\n",
    "\n",
    "print(df)\n",
    "print(df.loc['서준'])\n",
    "df['수학']"
   ]
  },
  {
   "cell_type": "code",
   "execution_count": 124,
   "metadata": {},
   "outputs": [
    {
     "name": "stdout",
     "output_type": "stream",
     "text": [
      "    수학  영어   음악  체육\n",
      "인아  70  95  100  95\n",
      "None\n",
      "    영어   음악   체육\n",
      "서준  98   85  100\n",
      "우현  89   95   90\n",
      "인아  95  100   95\n",
      "    영어   음악   체육\n",
      "서준  98   85  100\n",
      "우현  89   95   90\n",
      "인아  95  100   95\n",
      "    수학  영어   음악   체육\n",
      "서준  90  98   85  100\n",
      "우현  80  89   95   90\n",
      "인아  70  95  100   95\n"
     ]
    }
   ],
   "source": [
    "df1 = df            # 이건 안됨\n",
    "df2 = df.copy()     # 원본을 카피한다\n",
    "\n",
    "print(df.drop(['서준', '우현'], axis= 0))   # 기본값 asix = 0\n",
    "print(df.drop(['수학'], axis= 1, inplace=True))\n",
    "\n",
    "\n",
    "print(df)\n",
    "print(df1)\n",
    "print(df2)"
   ]
  },
  {
   "cell_type": "code",
   "execution_count": 139,
   "metadata": {},
   "outputs": [
    {
     "name": "stdout",
     "output_type": "stream",
     "text": [
      "   A           B    C      D    E\n",
      "0  1  2010-07-20  1.0   test  foo\n",
      "1  2  2010-07-20  1.0  train  foo\n",
      "2  1  2010-07-20  1.0   test  foo\n",
      "3  2  2010-07-20  1.0  train  foo\n",
      "   Type        Data    C      D    E\n",
      "A     1  2010-07-20  1.0   test  foo\n",
      "B     2  2010-07-20  1.0  train  foo\n",
      "2     1  2010-07-20  1.0   test  foo\n"
     ]
    }
   ],
   "source": [
    "df_rename = pd.DataFrame({\n",
    "    'A': [1,2,1,2],\n",
    "    'B': '2010-07-20',\n",
    "    'C': 1.0,\n",
    "    'D': ['test', 'train', 'test', 'train'],\n",
    "    'E': 'foo'\n",
    "})\n",
    "\n",
    "print(df_rename)\n",
    "\n",
    "df_rename.drop(3, axis=0, inplace= True)\n",
    "df_rename.rename(columns={'A': 'Type', 'B': 'Data'}, inplace= True)\n",
    "df_rename.rename(index= {0:'A', 1:'B'}, inplace= True)\n",
    "print(df_rename)"
   ]
  },
  {
   "cell_type": "code",
   "execution_count": null,
   "metadata": {},
   "outputs": [],
   "source": [
    "exam_data = {\n",
    "    '수학': [90,80,70], \n",
    "    '영어': [98,89,95], \n",
    "    '음악': [85,95,100],\n",
    "    '체육': [100,90,95]\n",
    "}\n",
    "\n",
    "df = pd.DataFrame(exam_data,\n",
    "                  index= ['서준', '우현', '인아'])\n",
    "\n",
    "print(df)"
   ]
  },
  {
   "cell_type": "code",
   "execution_count": 153,
   "metadata": {},
   "outputs": [
    {
     "name": "stdout",
     "output_type": "stream",
     "text": [
      "    수학  영어  음악\n",
      "서준  90  98  85\n",
      "우현  80  89  95\n",
      "    영어  음악   체육\n",
      "서준  98  85  100\n",
      "우현  89  95   90\n"
     ]
    }
   ],
   "source": [
    "print(df.loc['서준':'우현','수학':'음악'])\n",
    "print(df.iloc[0:2,1:])"
   ]
  },
  {
   "cell_type": "code",
   "execution_count": 156,
   "metadata": {},
   "outputs": [
    {
     "name": "stdout",
     "output_type": "stream",
     "text": [
      "    수학  영어   음악   체육\n",
      "서준  90  98   85  100\n",
      "우현  80  89   95   90\n",
      "인아  70  95  100   95\n",
      "    영어   음악   체육\n",
      "수학              \n",
      "90  98   85  100\n",
      "80  89   95   90\n",
      "70  95  100   95\n"
     ]
    }
   ],
   "source": [
    "print(df)\n",
    "\n",
    "print(df.set_index('수학'))\n"
   ]
  },
  {
   "cell_type": "code",
   "execution_count": 159,
   "metadata": {},
   "outputs": [
    {
     "name": "stdout",
     "output_type": "stream",
     "text": [
      "   주식  다리갯수   이름 무리생활   비행\n",
      "0  고기     4   사자  yes   no\n",
      "1   풀     4   사슴  yes   no\n",
      "2  고기     4   늑대  yes   no\n",
      "3  고기     2  독수리  yes  yes\n",
      "4  잡식     2    곰   no  yes\n"
     ]
    }
   ],
   "source": [
    "df_loc = pd.DataFrame([[\"고기\", 4, \"사자\", \"yes\", \"no\"],\n",
    "                      [\"풀\", 4, \"사슴\", \"yes\", \"no\"],\n",
    "                      [\"고기\", 4, \"늑대\", \"yes\", \"no\"],\n",
    "                      [\"고기\", 2, \"독수리\", \"yes\", \"yes\"],\n",
    "                      [\"잡식\", 2, \"곰\", \"no\", \"yes\"]],\n",
    "                     columns =  [\"주식\", \"다리갯수\", \"이름\", \"무리생활\", \"비행\"])\n",
    "\n",
    "print(df_loc)"
   ]
  },
  {
   "cell_type": "code",
   "execution_count": 172,
   "metadata": {},
   "outputs": [
    {
     "name": "stdout",
     "output_type": "stream",
     "text": [
      "   주식  다리갯수   이름 무리생활   비행\n",
      "0  고기     4   사자  yes   no\n",
      "1   풀     4   사슴  yes   no\n",
      "2  고기     4   늑대  yes   no\n",
      "3  고기     2  독수리  yes  yes\n",
      "\n",
      "   주식   이름   비행\n",
      "0  고기   사자   no\n",
      "1   풀   사슴   no\n",
      "2  고기   늑대   no\n",
      "3  고기  독수리  yes\n",
      "4  잡식    곰  yes\n",
      "\n",
      "   주식   이름 무리생활\n",
      "0  고기   사자  yes\n",
      "2  고기   늑대  yes\n",
      "3  고기  독수리  yes\n"
     ]
    }
   ],
   "source": [
    "print(df_loc.loc[0:3, :])   # : 적어둘것\n",
    "print()\n",
    "print(df_loc.loc[:,['주식','이름','비행']])\n",
    "print()\n",
    "print(df_loc.loc[[0,2,3],['주식','이름','무리생활']])"
   ]
  },
  {
   "cell_type": "code",
   "execution_count": 182,
   "metadata": {},
   "outputs": [
    {
     "name": "stdout",
     "output_type": "stream",
     "text": [
      "   이름  수학  영어   음악   체육\n",
      "0  서준  90  98   85  100\n",
      "1  우현  80  89   95   90\n",
      "2  인아  70  95  100   90\n",
      "   이름  수학  영어   음악   체육  국어   물리\n",
      "0  서준  90  98   85  100  62  100\n",
      "1  우현  80  89   95   90  77  100\n",
      "2  인아  70  95  100   90  59  100\n",
      "3  흥민  95  70   90  100  80  100\n"
     ]
    }
   ],
   "source": [
    "## Insert, delete\n",
    "\n",
    "exam_data = {'이름' : [ '서준', '우현', '인아'],\n",
    "             '수학' : [ 90, 80, 70],\n",
    "             '영어' : [ 98, 89, 95],\n",
    "             '음악' : [ 85, 95, 100],\n",
    "             '체육' : [ 100, 90, 90]\n",
    "             }\n",
    "\n",
    "df = pd.DataFrame(exam_data)\n",
    "print(df)\n",
    "\n",
    "df['국어'] = [62, 77, 59]\n",
    "df['물리'] = 100\n",
    "\n",
    "df.loc[3] = ['흥민', 95, 70, 90, 100, 80, 100]\n",
    "\n",
    "print(df)"
   ]
  },
  {
   "cell_type": "code",
   "execution_count": 196,
   "metadata": {},
   "outputs": [
    {
     "name": "stdout",
     "output_type": "stream",
     "text": [
      "   이름  수학  영어   음악   체육\n",
      "0  서준  90  98   85  100\n",
      "1  우현  80  89   95   90\n",
      "2  인아  70  95  100   90\n",
      "\n",
      "      수학  영어   음악   체육\n",
      "  이름                  \n",
      "0 서준  90  98   85  100\n",
      "1 우현  80  89   95   90\n",
      "2 인아  70  95  100   90\n",
      "\n",
      "         수학    영어     음악     체육\n",
      "   이름                          \n",
      "0  서준  90.0  98.0   85.0  100.0\n",
      "1  우현  80.0  89.0   95.0   90.0\n",
      "2  인아  70.0  95.0  100.0   90.0\n",
      "서준      NaN   NaN    NaN   50.0\n",
      "\n",
      "         수학    영어     음악     체육\n",
      "   이름                          \n",
      "0  서준  90.0  98.0   85.0  100.0\n",
      "1  우현  80.0  70.0   95.0   90.0\n",
      "2  인아  70.0  95.0  100.0   90.0\n",
      "서준      NaN   NaN    NaN   50.0\n",
      "\n",
      "         수학    영어     음악     체육\n",
      "   이름                          \n",
      "0  서준  90.0  98.0   85.0  100.0\n",
      "1  우현  80.0  70.0   95.0   90.0\n",
      "2  인아  70.0  95.0  100.0   90.0\n",
      "서준      NaN   NaN  100.0   70.0\n",
      "        0     1      2     서준\n",
      "이름     서준    우현     인아       \n",
      "수학   90.0  80.0   70.0    NaN\n",
      "영어   98.0  70.0   95.0    NaN\n",
      "음악   85.0  95.0  100.0  100.0\n",
      "체육  100.0  90.0   90.0   70.0\n",
      "\n"
     ]
    }
   ],
   "source": [
    "exam_data = {'이름' : [ '서준', '우현', '인아'],\n",
    "             '수학' : [ 90, 80, 70],\n",
    "             '영어' : [ 98, 89, 95],\n",
    "             '음악' : [ 85, 95, 100],\n",
    "             '체육' : [ 100, 90, 90]\n",
    "             }\n",
    "\n",
    "df = pd.DataFrame(exam_data)\n",
    "print(df)\n",
    "print()\n",
    "\n",
    "df.set_index('이름', append= True ,inplace= True) # append = True : 기존 값을 보존\n",
    "print(df)\n",
    "print()\n",
    "\n",
    "df.loc['서준', '체육'] = 50         # 데이터 하나 변경\n",
    "print(df)\n",
    "print()\n",
    "\n",
    "df.iloc[1, 1] = 70\n",
    "print(df)\n",
    "print()\n",
    "\n",
    "df.loc['서준', ['음악','체육']] = 100, 70         # 데이터 다수 변경\n",
    "print(df)\n",
    "print(df.T)\n",
    "print()\n",
    "\n"
   ]
  },
  {
   "cell_type": "code",
   "execution_count": 211,
   "metadata": {},
   "outputs": [
    {
     "name": "stdout",
     "output_type": "stream",
     "text": [
      "{'c0': [1, 2, 3], 'c1': [4, 5, 6], 'c2': [7, 8, 9], 'c3': [10, 11, 12], 'c4': [14, 15, 16]}\n",
      "    c0  c1  c2  c3  c4\n",
      "r0   1   4   7  10  14\n",
      "r1   2   5   8  11  15\n",
      "r2   3   6   9  12  16\n",
      "\n",
      "    c0  c1  c2  c3  c4\n",
      "r0   1   4   7  10  14\n",
      "r1   2   5   8  11  15\n",
      "r2   3   6   9  12  16\n",
      "r3   0   0   0   0   0\n",
      "r4   0   0   0   0   0\n",
      "\n",
      "  index  c0  c1  c2  c3  c4\n",
      "0    r0   1   4   7  10  14\n",
      "1    r1   2   5   8  11  15\n",
      "2    r2   3   6   9  12  16\n",
      "\n",
      "    c0  c1  c2  c3  c4\n",
      "r2   3   6   9  12  16\n",
      "r1   2   5   8  11  15\n",
      "r0   1   4   7  10  14\n",
      "\n"
     ]
    }
   ],
   "source": [
    "\n",
    "dict_data = {\n",
    "    'c0': [1,2,3], 'c1': [4,5,6], 'c2': [7,8,9],\n",
    "    'c3': [10,11,12], 'c4': [14,15,16]\n",
    "}\n",
    "\n",
    "print(dict_data)\n",
    "\n",
    "df = pd.DataFrame(dict_data,\n",
    "                  index= ['r0','r1','r2'])\n",
    "print(df)\n",
    "print()\n",
    "\n",
    "\n",
    "new_index = ['r0','r1','r2','r3','r4']\n",
    "\n",
    "df2 = df.reindex(new_index, fill_value=0)\n",
    "print(df2)\n",
    "print()\n",
    "\n",
    "df3 = df.reset_index()\n",
    "print(df3)\n",
    "print()\n",
    "\n",
    "df4 = df.sort_index(ascending=False)\n",
    "print(df4)\n",
    "print()\n",
    "\n",
    "\n"
   ]
  },
  {
   "cell_type": "code",
   "execution_count": 216,
   "metadata": {},
   "outputs": [
    {
     "name": "stdout",
     "output_type": "stream",
     "text": [
      "    c0  c1  c2  c3  c4\n",
      "r0   1   4   7  10  14\n",
      "r1   2   5   8  11  15\n",
      "r2   3   6   9  12  16\n",
      "\n",
      "    c0  c1  c2  c3  c4\n",
      "r2   3   6   9  12  16\n",
      "r1   2   5   8  11  15\n",
      "r0   1   4   7  10  14\n"
     ]
    }
   ],
   "source": [
    "print(df)\n",
    "print()\n",
    "df5 = df.sort_values(by='c4', ascending=False)\n",
    "print(df5)\n"
   ]
  },
  {
   "cell_type": "code",
   "execution_count": 221,
   "metadata": {},
   "outputs": [
    {
     "name": "stdout",
     "output_type": "stream",
     "text": [
      "국어    100\n",
      "영어     80\n",
      "수학     90\n",
      "dtype: int64\n",
      "국어    50.0\n",
      "영어    40.0\n",
      "수학    45.0\n",
      "dtype: float64\n"
     ]
    }
   ],
   "source": [
    "## 사칙연산, Broadcasting\n",
    "student1 = pd.Series({'국어':100,\n",
    "                      '영어':80,\n",
    "                     '수학':90})\n",
    "\n",
    "print(student1)\n",
    "\n",
    "student1_per = (student1*100)/200   #100을 곱하면 실수형 전환\n",
    "print(student1_per)\n",
    "\n",
    "\n"
   ]
  },
  {
   "cell_type": "code",
   "execution_count": 229,
   "metadata": {},
   "outputs": [
    {
     "name": "stdout",
     "output_type": "stream",
     "text": [
      "          국어           영어        수학\n",
      "덧셈    180.00   170.000000   170.000\n",
      "뺄셈     20.00   -10.000000    10.000\n",
      "곱셈   8000.00  7200.000000  7200.000\n",
      "나누셈     1.25     0.888889     1.125\n",
      "          국어       영어       수학\n",
      "덧셈    180.00   170.00   170.00\n",
      "뺄셈     20.00   -10.00    10.00\n",
      "곱셈   8000.00  7200.00  7200.00\n",
      "나누셈     1.25     0.89     1.12\n"
     ]
    }
   ],
   "source": [
    "student1_pre = pd.Series({'국어':100, '영어':80, '수학':90})\n",
    "student1_post = pd.Series({'국어':80, '영어':90, '수학':80})\n",
    "\n",
    "addition = student1_pre + student1_post\n",
    "subtraction = student1_pre - student1_post\n",
    "multi = student1_pre * student1_post\n",
    "division = student1_pre / student1_post\n",
    "\n",
    "result = pd.DataFrame([addition, subtraction, multi, division],\n",
    "                      index= ['덧셈', '뺄셈', '곱셈', '나누셈'])\n",
    "\n",
    "print(result)\n",
    "print(result.round(2))  # 소수점 자리 제한"
   ]
  },
  {
   "cell_type": "code",
   "execution_count": 233,
   "metadata": {},
   "outputs": [
    {
     "name": "stdout",
     "output_type": "stream",
     "text": [
      "Requirement already satisfied: seaborn in c:\\users\\jaemi\\anaconda3\\envs\\pandas_jm\\lib\\site-packages (0.12.2)\n",
      "Requirement already satisfied: numpy!=1.24.0,>=1.17 in c:\\users\\jaemi\\anaconda3\\envs\\pandas_jm\\lib\\site-packages (from seaborn) (1.24.3)\n",
      "Requirement already satisfied: pandas>=0.25 in c:\\users\\jaemi\\anaconda3\\envs\\pandas_jm\\lib\\site-packages (from seaborn) (2.0.1)\n",
      "Requirement already satisfied: matplotlib!=3.6.1,>=3.1 in c:\\users\\jaemi\\anaconda3\\envs\\pandas_jm\\lib\\site-packages (from seaborn) (3.7.1)\n",
      "Requirement already satisfied: contourpy>=1.0.1 in c:\\users\\jaemi\\anaconda3\\envs\\pandas_jm\\lib\\site-packages (from matplotlib!=3.6.1,>=3.1->seaborn) (1.0.7)\n",
      "Requirement already satisfied: cycler>=0.10 in c:\\users\\jaemi\\anaconda3\\envs\\pandas_jm\\lib\\site-packages (from matplotlib!=3.6.1,>=3.1->seaborn) (0.11.0)\n",
      "Requirement already satisfied: fonttools>=4.22.0 in c:\\users\\jaemi\\anaconda3\\envs\\pandas_jm\\lib\\site-packages (from matplotlib!=3.6.1,>=3.1->seaborn) (4.39.3)\n",
      "Requirement already satisfied: kiwisolver>=1.0.1 in c:\\users\\jaemi\\anaconda3\\envs\\pandas_jm\\lib\\site-packages (from matplotlib!=3.6.1,>=3.1->seaborn) (1.4.4)\n",
      "Requirement already satisfied: packaging>=20.0 in c:\\users\\jaemi\\anaconda3\\envs\\pandas_jm\\lib\\site-packages (from matplotlib!=3.6.1,>=3.1->seaborn) (23.1)\n",
      "Requirement already satisfied: pillow>=6.2.0 in c:\\users\\jaemi\\anaconda3\\envs\\pandas_jm\\lib\\site-packages (from matplotlib!=3.6.1,>=3.1->seaborn) (9.5.0)\n",
      "Requirement already satisfied: pyparsing>=2.3.1 in c:\\users\\jaemi\\anaconda3\\envs\\pandas_jm\\lib\\site-packages (from matplotlib!=3.6.1,>=3.1->seaborn) (3.0.9)\n",
      "Requirement already satisfied: python-dateutil>=2.7 in c:\\users\\jaemi\\appdata\\roaming\\python\\python311\\site-packages (from matplotlib!=3.6.1,>=3.1->seaborn) (2.8.2)\n",
      "Requirement already satisfied: pytz>=2020.1 in c:\\users\\jaemi\\anaconda3\\envs\\pandas_jm\\lib\\site-packages (from pandas>=0.25->seaborn) (2023.3)\n",
      "Requirement already satisfied: tzdata>=2022.1 in c:\\users\\jaemi\\anaconda3\\envs\\pandas_jm\\lib\\site-packages (from pandas>=0.25->seaborn) (2023.3)\n",
      "Requirement already satisfied: six>=1.5 in c:\\users\\jaemi\\appdata\\roaming\\python\\python311\\site-packages (from python-dateutil>=2.7->matplotlib!=3.6.1,>=3.1->seaborn) (1.16.0)\n"
     ]
    }
   ],
   "source": [
    "# ! pip install seaborn"
   ]
  },
  {
   "cell_type": "code",
   "execution_count": 2,
   "metadata": {},
   "outputs": [],
   "source": [
    "import seaborn as sns"
   ]
  },
  {
   "cell_type": "code",
   "execution_count": 3,
   "metadata": {},
   "outputs": [
    {
     "name": "stdout",
     "output_type": "stream",
     "text": [
      "<class 'pandas.core.frame.DataFrame'>\n",
      "   survived  pclass     sex   age  sibsp  parch     fare embarked  class   \n",
      "0         0       3    male  22.0      1      0   7.2500        S  Third  \\\n",
      "1         1       1  female  38.0      1      0  71.2833        C  First   \n",
      "2         1       3  female  26.0      0      0   7.9250        S  Third   \n",
      "3         1       1  female  35.0      1      0  53.1000        S  First   \n",
      "4         0       3    male  35.0      0      0   8.0500        S  Third   \n",
      "\n",
      "     who  adult_male deck  embark_town alive  alone  \n",
      "0    man        True  NaN  Southampton    no  False  \n",
      "1  woman       False    C    Cherbourg   yes  False  \n",
      "2  woman       False  NaN  Southampton   yes   True  \n",
      "3  woman       False    C  Southampton   yes  False  \n",
      "4    man        True  NaN  Southampton    no   True  \n",
      "\n",
      "(891, 15)\n"
     ]
    }
   ],
   "source": [
    "titanic = sns.load_dataset('titanic')\n",
    "print(type(titanic))\n",
    "\n",
    "print(titanic.head())\n",
    "print()\n",
    "print(titanic.shape)"
   ]
  },
  {
   "cell_type": "code",
   "execution_count": 4,
   "metadata": {},
   "outputs": [
    {
     "name": "stdout",
     "output_type": "stream",
     "text": [
      "   survived   age     fare      won\n",
      "0         0  22.0   7.2500   7250.0\n",
      "1         1  38.0  71.2833  71283.3\n",
      "2         1  26.0   7.9250   7925.0\n",
      "3         1  35.0  53.1000  53100.0\n",
      "4         0  35.0   8.0500   8050.0\n"
     ]
    }
   ],
   "source": [
    "titanic = sns.load_dataset('titanic')\n",
    "df = titanic.loc[0:4, ['survived', 'age', 'fare']]\n",
    "df['won'] = df['fare'] * 1000\n",
    "\n",
    "print(df)\n",
    "\n"
   ]
  }
 ],
 "metadata": {
  "kernelspec": {
   "display_name": "pandas_jm",
   "language": "python",
   "name": "python3"
  },
  "language_info": {
   "codemirror_mode": {
    "name": "ipython",
    "version": 3
   },
   "file_extension": ".py",
   "mimetype": "text/x-python",
   "name": "python",
   "nbconvert_exporter": "python",
   "pygments_lexer": "ipython3",
   "version": "3.11.3"
  },
  "orig_nbformat": 4
 },
 "nbformat": 4,
 "nbformat_minor": 2
}
