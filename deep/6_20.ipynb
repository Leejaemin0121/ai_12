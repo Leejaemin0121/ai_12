{
 "cells": [
  {
   "cell_type": "code",
   "execution_count": 1,
   "metadata": {},
   "outputs": [],
   "source": [
    "from tensorflow.keras.models import Sequential\n",
    "from tensorflow.keras.layers import Dense, Activation, Flatten, Dropout,\\\n",
    "                                    Conv2D, MaxPooling2D\n",
    "from tensorflow.keras.preprocessing.image import ImageDataGenerator\n",
    "from tensorflow.keras.callbacks import EarlyStopping\n",
    "from tensorflow.keras import optimizers\n",
    "\n",
    "import numpy as np\n",
    "import matplotlib.pyplot as plt"
   ]
  },
  {
   "cell_type": "code",
   "execution_count": 2,
   "metadata": {},
   "outputs": [
    {
     "name": "stdout",
     "output_type": "stream",
     "text": [
      "Found 160 images belonging to 2 classes.\n",
      "Found 120 images belonging to 2 classes.\n"
     ]
    }
   ],
   "source": [
    "# 기존의 이미지의 갯수를 늘리는 작업 : 데이터 전처리\n",
    "\n",
    "train_datagen = ImageDataGenerator(rescale=1./255,   #  정규화\n",
    "                  horizontal_flip=True,              # 수평으로 뒤집기\n",
    "                  width_shift_range=0.1,             # 수평이동\n",
    "                  height_shift_range=0.1,            # 수직이동\n",
    "                  fill_mode='nearest')               # 빈 공간 채우는 방법\n",
    "\n",
    "train_genarator = train_datagen.flow_from_directory(\n",
    "                './data-ch20/train',           # 학습셋이 있는 폴더의 위치\n",
    "                target_size=(150,150),\n",
    "                batch_size=5,\n",
    "                class_mode='binary')\n",
    "\n",
    "test_datagen = ImageDataGenerator(rescale=1./255)  # 테스트셋은 정규화만\n",
    "test_generator = test_datagen.flow_from_directory(\n",
    "                './data-ch20/test',           # 학습셋이 있는 폴더의 위치\n",
    "                target_size=(150,150),\n",
    "                batch_size=5,\n",
    "                class_mode='binary')"
   ]
  },
  {
   "cell_type": "code",
   "execution_count": null,
   "metadata": {},
   "outputs": [],
   "source": []
  }
 ],
 "metadata": {
  "kernelspec": {
   "display_name": "py_cpu",
   "language": "python",
   "name": "python3"
  },
  "language_info": {
   "codemirror_mode": {
    "name": "ipython",
    "version": 3
   },
   "file_extension": ".py",
   "mimetype": "text/x-python",
   "name": "python",
   "nbconvert_exporter": "python",
   "pygments_lexer": "ipython3",
   "version": "3.9.16"
  },
  "orig_nbformat": 4
 },
 "nbformat": 4,
 "nbformat_minor": 2
}
