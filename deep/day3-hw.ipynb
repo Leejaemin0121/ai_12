{
 "cells": [
  {
   "cell_type": "code",
   "execution_count": null,
   "metadata": {},
   "outputs": [],
   "source": [
    "# <1.>\n",
    "# 유방암 환자의 자료로 유방암 검증 \n",
    "# 의미있는 속성을 검색하기 위해서 그래프를 활용 \n",
    "# 속성중의 의미있는 속성만 추출하여 X 작성\n",
    "# 클래스 -> y 작성\n",
    "# 모델 실행 후 마지막 정확도 출력\n",
    "\n",
    "# <2.> \n",
    "# titanic 자료를 seaborn에서 load한 후에 \n",
    "# 속성자료가 object 인 속성의 클래스 데이터를 one-hot encoding\n",
    "# 속성자료가 object 인데 클래스가 아닌 속성은 제거 \n",
    "# 생존여부 -> alive : yes 또는 no 인경우 하나의 값으로 출력 \n",
    "# 생존에 영향을 끼치는 속성만 추출하여 모델 생성 후 학습 시킴\n",
    "\n",
    "# <3.>\n",
    "# load_wine 을 실행해서 다항분류의 모델링을 학습시킴\n"
   ]
  },
  {
   "cell_type": "code",
   "execution_count": 1,
   "metadata": {},
   "outputs": [],
   "source": [
    "from tensorflow.keras.models import Sequential\n",
    "from tensorflow.keras.layers import Dense\n",
    "import matplotlib.pyplot as plt\n",
    "import seaborn as sns\n",
    "import pandas as pd\n",
    "import numpy as np\n",
    "from tensorflow.keras.utils import normalize\n",
    "import tensorflow as tf"
   ]
  },
  {
   "cell_type": "code",
   "execution_count": 2,
   "metadata": {},
   "outputs": [],
   "source": [
    "# 모델 생성 함수\n",
    "def create_mlp(input_size, hidden_sizes, output_size):\n",
    "    model = Sequential()\n",
    "    model.add(Dense(hidden_sizes[0], input_dim=input_size, activation='relu'))\n",
    "    for hidden_size in hidden_sizes[1:]:\n",
    "        model.add(Dense(hidden_size, activation='relu'))\n",
    "    \n",
    "    if output_size == 1:\n",
    "        act_func = 'sigmoid'\n",
    "    else:\n",
    "        act_func = 'softmax'\n",
    "    model.add(Dense(output_size, activation=act_func))\n",
    "    return model\n",
    "\n"
   ]
  },
  {
   "cell_type": "code",
   "execution_count": 3,
   "metadata": {},
   "outputs": [],
   "source": [
    "# 1. 유방암 자료를 가지고 딥러닝 학습\n",
    "from sklearn.datasets import load_breast_cancer, load_wine\n",
    "\n",
    "Data = load_breast_cancer() \n",
    "X = Data['data']       # 학습 데이터\n",
    "y = Data['target']     # 타겟 데이터\n"
   ]
  },
  {
   "cell_type": "code",
   "execution_count": 4,
   "metadata": {},
   "outputs": [
    {
     "name": "stdout",
     "output_type": "stream",
     "text": [
      "마지막 정확도 :  0.9349736571311951\n"
     ]
    }
   ],
   "source": [
    "# 전체 속성으로 모델 학습\n",
    "input_size = X.shape[1]\n",
    "hidden_sizes = [50,50,30]\n",
    "output_size = 1\n",
    "model = create_mlp(input_size, hidden_sizes, output_size)\n",
    "\n",
    "model.compile(loss='binary_crossentropy', metrics=['accuracy'])\n",
    "hist = model.fit(X, y, epochs=200, verbose=False)\n",
    "\n",
    "print(\"마지막 정확도 : \", hist.history['accuracy'][-1])"
   ]
  },
  {
   "cell_type": "code",
   "execution_count": 5,
   "metadata": {},
   "outputs": [
    {
     "data": {
      "image/png": "[encoded data removed]",
      "text/plain": [
       "<Figure size 640x480 with 1 Axes>"
      ]
     },
     "metadata": {},
     "output_type": "display_data"
    }
   ],
   "source": [
    "# boxplot 으로 이상점 확인\n",
    "plt.boxplot(X)\n",
    "plt.show()"
   ]
  },
  {
   "cell_type": "code",
   "execution_count": 6,
   "metadata": {},
   "outputs": [],
   "source": [
    "# X 속성중 인덱스 3, 13, 23 데이터 확인 \n",
    "X_copy = X.copy()\n",
    "X = X[ :, [3,13,23]]"
   ]
  },
  {
   "cell_type": "code",
   "execution_count": 7,
   "metadata": {},
   "outputs": [
    {
     "name": "stdout",
     "output_type": "stream",
     "text": [
      "마지막 정확도 :  0.927943766117096\n"
     ]
    }
   ],
   "source": [
    "\n",
    "input_size = X.shape[1]\n",
    "hidden_sizes = [50,50,30]\n",
    "output_size = 1\n",
    "model = create_mlp(input_size, hidden_sizes, output_size)\n",
    "\n",
    "model.compile(loss='binary_crossentropy', metrics=['accuracy'])\n",
    "hist = model.fit(X, y, epochs=200, verbose=False)\n",
    "print(\"마지막 정확도 : \", hist.history['accuracy'][-1])"
   ]
  },
  {
   "cell_type": "code",
   "execution_count": 8,
   "metadata": {},
   "outputs": [],
   "source": [
    "# 2. titanic 자료를 seaborn에서 load한 후에 \n",
    "# 모델 생성 함수\n",
    "# Load the Titanic dataset from seaborn\n",
    "titanic = sns.load_dataset('titanic')\n",
    "\n",
    "# Drop columns with more than 500 NaN values\n",
    "titanic.dropna(thresh=500, axis=1, inplace=True)\n",
    "\n",
    "# Drop rows with NaN values\n",
    "titanic.dropna(axis=0, inplace=True)\n",
    "\n",
    "# Remove 'survived' and 'alive' columns\n",
    "X = titanic.drop(['survived', 'alive'], axis=1)\n",
    "\n",
    "# Remove columns with object data type\n",
    "X = X.select_dtypes(exclude='object')\n",
    "\n",
    "# Perform one-hot encoding for the 'class' column\n",
    "X = pd.get_dummies(X, columns=['class'])\n",
    "\n",
    "n_columns = X.select_dtypes(include=['float64', 'int64']).columns\n",
    "X[n_columns] = normalize(X[n_columns])\n",
    "\n",
    "# Extract the target variable\n",
    "X = X.values.astype(np.float32)\n",
    "y = np.array(titanic['alive'].map({'no': 0, 'yes': 1}))\n"
   ]
  },
  {
   "cell_type": "code",
   "execution_count": 11,
   "metadata": {},
   "outputs": [
    {
     "name": "stdout",
     "output_type": "stream",
     "text": [
      "Final accuracy: 0.834269642829895\n"
     ]
    }
   ],
   "source": [
    "\n",
    "# Model creation\n",
    "input_size = X.shape[1]\n",
    "hidden_sizes = [20, 10]\n",
    "output_size = 1\n",
    "model = create_mlp(input_size, hidden_sizes, output_size)\n",
    "\n",
    "model.compile(loss='binary_crossentropy', metrics=['accuracy'])\n",
    "hist = model.fit(X, y, epochs=200, verbose=False)\n",
    "print(\"Final accuracy:\", hist.history['accuracy'][-1])\n"
   ]
  },
  {
   "cell_type": "code",
   "execution_count": 10,
   "metadata": {},
   "outputs": [
    {
     "data": {
      "text/plain": [
       "array([0, 1, 1, 1, 0, 0, 0, 1, 1, 1, 1, 0, 0, 0, 1, 0, 0, 0, 1, 1, 1, 0,\n",
       "       1, 0, 0, 0, 0, 0, 0, 0, 1, 0, 0, 1, 1, 0, 0, 0, 1, 1, 0, 1, 0, 1,\n",
       "       0, 0, 0, 0, 1, 0, 1, 0, 0, 0, 0, 0, 1, 0, 1, 1, 0, 1, 0, 1, 1, 0,\n",
       "       1, 0, 0, 0, 0, 0, 0, 0, 1, 1, 0, 0, 0, 0, 0, 0, 1, 0, 0, 0, 0, 0,\n",
       "       0, 0, 0, 0, 0, 0, 0, 0, 1, 0, 1, 1, 0, 0, 0, 0, 1, 0, 0, 1, 0, 0,\n",
       "       0, 1, 1, 0, 0, 0, 1, 0, 0, 0, 0, 1, 0, 0, 0, 1, 0, 0, 1, 0, 0, 0,\n",
       "       1, 0, 0, 0, 0, 1, 0, 0, 0, 0, 0, 0, 0, 1, 1, 1, 0, 0, 1, 0, 1, 1,\n",
       "       1, 1, 0, 0, 0, 0, 0, 1, 0, 0, 1, 1, 1, 0, 1, 0, 0, 1, 1, 0, 1, 0,\n",
       "       1, 0, 0, 1, 0, 1, 0, 0, 1, 0, 0, 1, 0, 0, 1, 0, 0, 0, 0, 0, 0, 0,\n",
       "       1, 1, 0, 0, 0, 0, 0, 1, 1, 1, 1, 1, 0, 0, 0, 0, 1, 1, 1, 1, 1, 0,\n",
       "       1, 0, 0, 1, 0, 0, 0, 1, 0, 1, 0, 1, 1, 1, 1, 0, 0, 0, 0, 0, 1, 0,\n",
       "       1, 1, 0, 1, 1, 1, 0, 0, 0, 1, 1, 0, 1, 1, 0, 0, 1, 1, 1, 0, 1, 1,\n",
       "       1, 0, 0, 0, 0, 1, 1, 0, 1, 1, 0, 0, 0, 1, 1, 1, 0, 0, 0, 0, 0, 1,\n",
       "       0, 0, 0, 0, 0, 0, 1, 1, 1, 0, 0, 0, 0, 1, 0, 0, 0, 1, 1, 0, 1, 0,\n",
       "       0, 1, 1, 1, 1, 0, 1, 1, 0, 0, 0, 0, 1, 1, 0, 0, 0, 0, 0, 0, 1, 0,\n",
       "       1, 1, 1, 1, 0, 0, 0, 0, 0, 0, 1, 1, 1, 1, 1, 0, 0, 1, 0, 1, 0, 0,\n",
       "       1, 0, 0, 1, 1, 1, 1, 1, 1, 0, 0, 1, 1, 0, 1, 1, 0, 0, 0, 0, 0, 1,\n",
       "       0, 1, 1, 0, 0, 0, 0, 1, 0, 0, 1, 1, 1, 0, 0, 1, 0, 0, 0, 0, 1, 0,\n",
       "       0, 0, 0, 0, 1, 0, 1, 0, 1, 1, 1, 1, 0, 0, 1, 1, 0, 1, 0, 1, 0, 1,\n",
       "       0, 0, 1, 0, 0, 1, 0, 1, 1, 1, 0, 0, 1, 0, 0, 1, 0, 1, 1, 0, 1, 1,\n",
       "       0, 1, 1, 1, 0, 0, 0, 0, 0, 1, 1, 1, 1, 0, 0, 1, 1, 1, 1, 1, 0, 0,\n",
       "       1, 0, 1, 0, 0, 1, 0, 0, 0, 0, 1, 1, 0, 1, 0, 0, 1, 1, 1, 0, 0, 1,\n",
       "       0, 0, 1, 0, 0, 1, 1, 0, 0, 0, 0, 1, 0, 1, 0, 1, 0, 1, 0, 0, 0, 0,\n",
       "       1, 0, 1, 1, 0, 1, 1, 1, 0, 0, 0, 0, 0, 0, 1, 0, 0, 0, 1, 0, 0, 0,\n",
       "       1, 0, 0, 1, 0, 0, 1, 0, 1, 1, 0, 0, 0, 0, 0, 0, 0, 1, 1, 1, 0, 0,\n",
       "       0, 0, 0, 0, 1, 1, 0, 0, 0, 0, 1, 1, 1, 1, 1, 0, 0, 0, 1, 1, 0, 1,\n",
       "       0, 0, 0, 1, 0, 1, 0, 0, 1, 0, 0, 0, 0, 0, 1, 0, 1, 0, 1, 0, 0, 1,\n",
       "       0, 0, 1, 1, 0, 0, 1, 1, 0, 0, 0, 1, 0, 1, 1, 0, 1, 0, 0, 0, 0, 0,\n",
       "       1, 0, 1, 1, 1, 1, 0, 0, 0, 1, 0, 1, 0, 0, 0, 0, 1, 1, 0, 0, 0, 1,\n",
       "       1, 1, 1, 0, 0, 0, 0, 1, 0, 0, 0, 0, 0, 0, 0, 0, 0, 1, 1, 0, 1, 0,\n",
       "       1, 1, 1, 0, 0, 1, 0, 1, 0, 0, 1, 0, 0, 0, 0, 0, 0, 0, 0, 1, 0, 1,\n",
       "       1, 1, 1, 0, 0, 1, 0, 1, 1, 0, 1, 0, 1, 0, 0, 1, 1, 0, 0, 1, 1, 0,\n",
       "       0, 0, 0, 0, 0, 1, 1, 0], dtype=int64)"
      ]
     },
     "execution_count": 10,
     "metadata": {},
     "output_type": "execute_result"
    }
   ],
   "source": [
    "y"
   ]
  },
  {
   "cell_type": "code",
   "execution_count": 12,
   "metadata": {},
   "outputs": [
    {
     "name": "stdout",
     "output_type": "stream",
     "text": [
      "Final accuracy: 0.8426966071128845\n"
     ]
    }
   ],
   "source": [
    "# <3.>\n",
    "# load_wine 을 실행해서 다항분류의 모델링을 학습시킴\n",
    "data_wine = load_wine() \n",
    "X = data_wine['data']\n",
    "y = data_wine['target']\n",
    "y = pd.get_dummies(y)  # class 로 변경\n",
    "\n",
    "# Model creation\n",
    "input_size = X.shape[1]\n",
    "hidden_sizes = [20, 10]\n",
    "output_size = 3\n",
    "model = create_mlp(input_size, hidden_sizes, output_size)\n",
    "\n",
    "model.compile(loss='categorical_crossentropy', metrics=['accuracy'])\n",
    "hist = model.fit(X, y, epochs=200, verbose=False)\n",
    "print(\"Final accuracy:\", hist.history['accuracy'][-1])"
   ]
  }
 ],
 "metadata": {
  "kernelspec": {
   "display_name": "py3.8",
   "language": "python",
   "name": "python3"
  },
  "language_info": {
   "codemirror_mode": {
    "name": "ipython",
    "version": 3
   },
   "file_extension": ".py",
   "mimetype": "text/x-python",
   "name": "python",
   "nbconvert_exporter": "python",
   "pygments_lexer": "ipython3",
   "version": "3.8.16"
  },
  "orig_nbformat": 4
 },
 "nbformat": 4,
 "nbformat_minor": 2
}
