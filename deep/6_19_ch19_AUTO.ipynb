{
 "cells": [
  {
   "cell_type": "code",
   "execution_count": 16,
   "metadata": {},
   "outputs": [],
   "source": [
    "import numpy as np\n",
    "\n",
    "import tensorflow as tf\n",
    "from tensorflow.keras.models import Sequential, Model\n",
    "from tensorflow.keras.layers import Input, Dense, Reshape, Flatten, UpSampling2D, Conv2D, MaxPooling2D\n",
    "from tensorflow.keras.datasets import mnist\n",
    "\n",
    "import matplotlib.pyplot as plt\n"
   ]
  },
  {
   "cell_type": "code",
   "execution_count": 17,
   "metadata": {},
   "outputs": [],
   "source": [
    "(X_train, _), (X_test, _) = mnist.load_data()        # 이미지만 사용하기 때문에 X_train 만 호출\n",
    "\n",
    "X_train = X_train.reshape(X_train.shape[0], 28, 28, 1).astype('float32') / 255\n",
    "X_test = X_test.reshape(X_test.shape[0], 28, 28, 1).astype('float32') / 255\n"
   ]
  },
  {
   "cell_type": "code",
   "execution_count": 18,
   "metadata": {},
   "outputs": [],
   "source": [
    "# 오토인코더 -> 인코딩 : Conv -> MaxPooling -> Conv -> MaxPooling -> Conv\n",
    "# 디코딩 : Conv -> UpSampling -> Conv -> UpSampling -> Conv"
   ]
  },
  {
   "cell_type": "code",
   "execution_count": 23,
   "metadata": {},
   "outputs": [
    {
     "name": "stdout",
     "output_type": "stream",
     "text": [
      "Model: \"sequential_4\"\n",
      "_________________________________________________________________\n",
      " Layer (type)                Output Shape              Param #   \n",
      "=================================================================\n",
      " conv2d_28 (Conv2D)          (None, 28, 28, 16)        160       \n",
      "                                                                 \n",
      " max_pooling2d_8 (MaxPooling  (None, 14, 14, 16)       0         \n",
      " 2D)                                                             \n",
      "                                                                 \n",
      " conv2d_29 (Conv2D)          (None, 14, 14, 8)         1160      \n",
      "                                                                 \n",
      " max_pooling2d_9 (MaxPooling  (None, 7, 7, 8)          0         \n",
      " 2D)                                                             \n",
      "                                                                 \n",
      " conv2d_30 (Conv2D)          (None, 4, 4, 8)           584       \n",
      "                                                                 \n",
      " conv2d_31 (Conv2D)          (None, 4, 4, 8)           584       \n",
      "                                                                 \n",
      " up_sampling2d_12 (UpSamplin  (None, 8, 8, 8)          0         \n",
      " g2D)                                                            \n",
      "                                                                 \n",
      " conv2d_32 (Conv2D)          (None, 8, 8, 8)           584       \n",
      "                                                                 \n",
      " up_sampling2d_13 (UpSamplin  (None, 16, 16, 8)        0         \n",
      " g2D)                                                            \n",
      "                                                                 \n",
      " conv2d_33 (Conv2D)          (None, 14, 14, 16)        1168      \n",
      "                                                                 \n",
      " up_sampling2d_14 (UpSamplin  (None, 28, 28, 16)       0         \n",
      " g2D)                                                            \n",
      "                                                                 \n",
      " conv2d_34 (Conv2D)          (None, 28, 28, 1)         145       \n",
      "                                                                 \n",
      "=================================================================\n",
      "Total params: 4,385\n",
      "Trainable params: 4,385\n",
      "Non-trainable params: 0\n",
      "_________________________________________________________________\n"
     ]
    }
   ],
   "source": [
    "# 인코딩\n",
    "model = Sequential()\n",
    "model.add(Conv2D(16, 3, input_shape=(28, 28, 1), padding='same', activation='relu'))  \n",
    "model.add(MaxPooling2D(2, padding='same'))                                                       \n",
    "model.add(Conv2D(8, 3, padding='same', activation='relu'))                           \n",
    "model.add(MaxPooling2D(2, padding='same'))                                                       \n",
    "model.add(Conv2D(8, 3, strides=2, padding='same', activation='relu'))                           \n",
    "\n",
    "# 디코딩\n",
    "model.add(Conv2D(8, 3, padding='same', activation='relu'))     \n",
    "model.add(UpSampling2D())                      \n",
    "model.add(Conv2D(8, 3, padding='same', activation='relu'))     \n",
    "model.add(UpSampling2D())                      \n",
    "model.add(Conv2D(16, 3, activation='relu'))                           \n",
    "model.add(UpSampling2D()) \n",
    "model.add(Conv2D(1, 3, padding='same', activation='sigmoid'))\n",
    "model.summary()\n"
   ]
  },
  {
   "cell_type": "code",
   "execution_count": 24,
   "metadata": {},
   "outputs": [
    {
     "name": "stdout",
     "output_type": "stream",
     "text": [
      "Epoch 1/50\n",
      "469/469 [==============================] - 65s 134ms/step - loss: 0.2089 - val_loss: 0.1375\n",
      "Epoch 2/50\n",
      "469/469 [==============================] - 60s 128ms/step - loss: 0.1264 - val_loss: 0.1163\n",
      "Epoch 3/50\n",
      "469/469 [==============================] - 59s 126ms/step - loss: 0.1131 - val_loss: 0.1082\n",
      "Epoch 4/50\n",
      "469/469 [==============================] - 60s 127ms/step - loss: 0.1071 - val_loss: 0.1037\n",
      "Epoch 5/50\n",
      "469/469 [==============================] - 60s 127ms/step - loss: 0.1033 - val_loss: 0.1007\n",
      "Epoch 6/50\n",
      "469/469 [==============================] - 69s 146ms/step - loss: 0.1007 - val_loss: 0.0989\n",
      "Epoch 7/50\n",
      "469/469 [==============================] - 70s 150ms/step - loss: 0.0987 - val_loss: 0.0969\n",
      "Epoch 8/50\n",
      "469/469 [==============================] - 66s 141ms/step - loss: 0.0971 - val_loss: 0.0950\n",
      "Epoch 9/50\n",
      "469/469 [==============================] - 60s 127ms/step - loss: 0.0954 - val_loss: 0.0939\n",
      "Epoch 10/50\n",
      "469/469 [==============================] - 61s 130ms/step - loss: 0.0939 - val_loss: 0.0921\n",
      "Epoch 11/50\n",
      "469/469 [==============================] - 58s 123ms/step - loss: 0.0926 - val_loss: 0.0911\n",
      "Epoch 12/50\n",
      "469/469 [==============================] - 64s 137ms/step - loss: 0.0913 - val_loss: 0.0896\n",
      "Epoch 13/50\n",
      "469/469 [==============================] - 63s 134ms/step - loss: 0.0903 - val_loss: 0.0891\n",
      "Epoch 14/50\n",
      "469/469 [==============================] - 63s 134ms/step - loss: 0.0894 - val_loss: 0.0879\n",
      "Epoch 15/50\n",
      "469/469 [==============================] - 60s 128ms/step - loss: 0.0886 - val_loss: 0.0871\n",
      "Epoch 16/50\n",
      "469/469 [==============================] - 58s 124ms/step - loss: 0.0880 - val_loss: 0.0867\n",
      "Epoch 17/50\n",
      "469/469 [==============================] - 58s 123ms/step - loss: 0.0874 - val_loss: 0.0861\n",
      "Epoch 18/50\n",
      "469/469 [==============================] - 58s 124ms/step - loss: 0.0869 - val_loss: 0.0856\n",
      "Epoch 19/50\n",
      "469/469 [==============================] - 59s 127ms/step - loss: 0.0864 - val_loss: 0.0854\n",
      "Epoch 20/50\n",
      "469/469 [==============================] - 58s 124ms/step - loss: 0.0861 - val_loss: 0.0850\n",
      "Epoch 21/50\n",
      "469/469 [==============================] - 58s 124ms/step - loss: 0.0857 - val_loss: 0.0846\n",
      "Epoch 22/50\n",
      "469/469 [==============================] - 72s 154ms/step - loss: 0.0854 - val_loss: 0.0841\n",
      "Epoch 23/50\n",
      "469/469 [==============================] - 60s 128ms/step - loss: 0.0851 - val_loss: 0.0839\n",
      "Epoch 24/50\n",
      "469/469 [==============================] - 65s 139ms/step - loss: 0.0848 - val_loss: 0.0836\n",
      "Epoch 25/50\n",
      "469/469 [==============================] - 60s 127ms/step - loss: 0.0846 - val_loss: 0.0835\n",
      "Epoch 26/50\n",
      "469/469 [==============================] - 53s 114ms/step - loss: 0.0844 - val_loss: 0.0832\n",
      "Epoch 27/50\n",
      "469/469 [==============================] - 56s 119ms/step - loss: 0.0841 - val_loss: 0.0830\n",
      "Epoch 28/50\n",
      "469/469 [==============================] - 59s 125ms/step - loss: 0.0839 - val_loss: 0.0831\n",
      "Epoch 29/50\n",
      "469/469 [==============================] - 58s 124ms/step - loss: 0.0838 - val_loss: 0.0829\n",
      "Epoch 30/50\n",
      "469/469 [==============================] - 56s 120ms/step - loss: 0.0836 - val_loss: 0.0825\n",
      "Epoch 31/50\n",
      "469/469 [==============================] - 56s 120ms/step - loss: 0.0834 - val_loss: 0.0824\n",
      "Epoch 32/50\n",
      "469/469 [==============================] - 53s 112ms/step - loss: 0.0833 - val_loss: 0.0825\n",
      "Epoch 33/50\n",
      "469/469 [==============================] - 56s 120ms/step - loss: 0.0832 - val_loss: 0.0822\n",
      "Epoch 34/50\n",
      "469/469 [==============================] - 53s 113ms/step - loss: 0.0830 - val_loss: 0.0820\n",
      "Epoch 35/50\n",
      "469/469 [==============================] - 62s 131ms/step - loss: 0.0829 - val_loss: 0.0821\n",
      "Epoch 36/50\n",
      "469/469 [==============================] - 55s 116ms/step - loss: 0.0829 - val_loss: 0.0819\n",
      "Epoch 37/50\n",
      "469/469 [==============================] - 52s 111ms/step - loss: 0.0827 - val_loss: 0.0818\n",
      "Epoch 38/50\n",
      "469/469 [==============================] - 48s 102ms/step - loss: 0.0826 - val_loss: 0.0818\n",
      "Epoch 39/50\n",
      "469/469 [==============================] - 47s 101ms/step - loss: 0.0825 - val_loss: 0.0815\n",
      "Epoch 40/50\n",
      "469/469 [==============================] - 48s 101ms/step - loss: 0.0824 - val_loss: 0.0816\n",
      "Epoch 41/50\n",
      "469/469 [==============================] - 48s 102ms/step - loss: 0.0823 - val_loss: 0.0812\n",
      "Epoch 42/50\n",
      "469/469 [==============================] - 49s 104ms/step - loss: 0.0822 - val_loss: 0.0812\n",
      "Epoch 43/50\n",
      "469/469 [==============================] - 10938s 23s/step - loss: 0.0821 - val_loss: 0.0812\n",
      "Epoch 44/50\n",
      "469/469 [==============================] - 45s 96ms/step - loss: 0.0821 - val_loss: 0.0814\n",
      "Epoch 45/50\n",
      "469/469 [==============================] - 45s 96ms/step - loss: 0.0820 - val_loss: 0.0811\n",
      "Epoch 46/50\n",
      "469/469 [==============================] - 45s 95ms/step - loss: 0.0819 - val_loss: 0.0812\n",
      "Epoch 47/50\n",
      "469/469 [==============================] - 45s 96ms/step - loss: 0.0818 - val_loss: 0.0809\n",
      "Epoch 48/50\n",
      "469/469 [==============================] - 45s 96ms/step - loss: 0.0818 - val_loss: 0.0807\n",
      "Epoch 49/50\n",
      "469/469 [==============================] - 45s 97ms/step - loss: 0.0817 - val_loss: 0.0808\n",
      "Epoch 50/50\n",
      "469/469 [==============================] - 48s 102ms/step - loss: 0.0817 - val_loss: 0.0808\n"
     ]
    },
    {
     "data": {
      "text/plain": [
       "<keras.callbacks.History at 0x2321d048a90>"
      ]
     },
     "execution_count": 24,
     "metadata": {},
     "output_type": "execute_result"
    }
   ],
   "source": [
    "model.compile(loss='binary_crossentropy', optimizer='adam')\n",
    "model.fit(X_train, X_train, epochs=50, batch_size=128,\n",
    "                validation_data = (X_test, X_test))"
   ]
  },
  {
   "cell_type": "code",
   "execution_count": 25,
   "metadata": {},
   "outputs": [
    {
     "name": "stdout",
     "output_type": "stream",
     "text": [
      "313/313 [==============================] - 6s 17ms/step\n"
     ]
    },
    {
     "data": {
      "image/png": "[encoded data removed]",
      "text/plain": [
       "<Figure size 700x200 with 10 Axes>"
      ]
     },
     "metadata": {},
     "output_type": "display_data"
    }
   ],
   "source": [
    "# 학습된 결과 출력\n",
    "random_test = np.random.randint(X_test.shape[0], size=5)\n",
    "\n",
    "# 테스트할 이미지를 랜덤으로 호출\n",
    "ae_imgs = model.predict(X_test)\n",
    "\n",
    "plt.figure(figsize=(7, 2))\n",
    "\n",
    "for i, image_idx in enumerate(random_test):\n",
    "    ax = plt.subplot(2, 7, i+1)\n",
    "    plt.imshow(X_test[image_idx].reshape(28, 28))\n",
    "    ax.axis('off')\n",
    "    ax = plt.subplot(2, 7, 7+i+1)\n",
    "    plt.imshow(ae_imgs[image_idx].reshape(28, 28))\n",
    "    ax.axis('off')\n",
    "plt.show()\n",
    "    "
   ]
  },
  {
   "cell_type": "code",
   "execution_count": null,
   "metadata": {},
   "outputs": [],
   "source": []
  }
 ],
 "metadata": {
  "kernelspec": {
   "display_name": "py_cpu",
   "language": "python",
   "name": "python3"
  },
  "language_info": {
   "codemirror_mode": {
    "name": "ipython",
    "version": 3
   },
   "file_extension": ".py",
   "mimetype": "text/x-python",
   "name": "python",
   "nbconvert_exporter": "python",
   "pygments_lexer": "ipython3",
   "version": "3.9.16"
  },
  "orig_nbformat": 4
 },
 "nbformat": 4,
 "nbformat_minor": 2
}
