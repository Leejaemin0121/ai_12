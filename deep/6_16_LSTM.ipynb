{
 "cells": [
  {
   "cell_type": "code",
   "execution_count": 18,
   "metadata": {},
   "outputs": [],
   "source": [
    "import numpy as np\n",
    "import pandas as pd\n",
    "import seaborn as sns\n",
    "\n",
    "import tensorflow as tf\n",
    "from tensorflow.keras.models import Sequential\n",
    "from tensorflow.keras.layers import Dense, Embedding, LSTM\n",
    "from tensorflow.keras.callbacks import ModelCheckpoint, EarlyStopping\n",
    "from tensorflow.keras.utils import to_categorical\n",
    "from tensorflow.keras.preprocessing import sequence\n",
    "\n",
    "from tensorflow.keras.datasets import reuters\n",
    "\n",
    "\n",
    "import matplotlib.pyplot as plt "
   ]
  },
  {
   "cell_type": "code",
   "execution_count": 19,
   "metadata": {},
   "outputs": [],
   "source": [
    "# mnist 데이터셋 로드\n",
    "(X_train, y_train), (X_test, y_test) = reuters.load_data(num_words=1000, test_split=0.2)"
   ]
  },
  {
   "cell_type": "code",
   "execution_count": 20,
   "metadata": {},
   "outputs": [
    {
     "name": "stdout",
     "output_type": "stream",
     "text": [
      "46 카테고리\n",
      "8982 학습용\n",
      "2246 테스트용\n",
      "[1, 2, 2, 8, 43, 10, 447, 5, 25, 207, 270, 5, 2, 111, 16, 369, 186, 90, 67, 7, 89, 5, 19, 102, 6, 19, 124, 15, 90, 67, 84, 22, 482, 26, 7, 48, 4, 49, 8, 864, 39, 209, 154, 6, 151, 6, 83, 11, 15, 22, 155, 11, 15, 7, 48, 9, 2, 2, 504, 6, 258, 6, 272, 11, 15, 22, 134, 44, 11, 15, 16, 8, 197, 2, 90, 67, 52, 29, 209, 30, 32, 132, 6, 109, 15, 17, 12]\n"
     ]
    }
   ],
   "source": [
    "category = np.max(y_train)+1\n",
    "print(category, '카테고리')\n",
    "print(len(X_train), '학습용')\n",
    "print(len(X_test), '테스트용')\n",
    "print(X_train[0])"
   ]
  },
  {
   "cell_type": "code",
   "execution_count": 21,
   "metadata": {},
   "outputs": [],
   "source": [
    "# 단어의 수를 맞추기\n",
    "\n",
    "X_train = sequence.pad_sequences(X_train, maxlen=100)\n",
    "X_test = sequence.pad_sequences(X_test, maxlen=100)"
   ]
  },
  {
   "cell_type": "code",
   "execution_count": 22,
   "metadata": {},
   "outputs": [],
   "source": [
    "# 원-핫 인코딩\n",
    "\n",
    "y_train = to_categorical(y_train)\n",
    "y_test = to_categorical(y_test)"
   ]
  },
  {
   "cell_type": "code",
   "execution_count": 26,
   "metadata": {},
   "outputs": [
    {
     "name": "stdout",
     "output_type": "stream",
     "text": [
      "Model: \"sequential_7\"\n",
      "_________________________________________________________________\n",
      " Layer (type)                Output Shape              Param #   \n",
      "=================================================================\n",
      " embedding_7 (Embedding)     (None, None, 1000)        1000000   \n",
      "                                                                 \n",
      " lstm_7 (LSTM)               (None, 100)               440400    \n",
      "                                                                 \n",
      " dense_7 (Dense)             (None, 46)                4646      \n",
      "                                                                 \n",
      "=================================================================\n",
      "Total params: 1,445,046\n",
      "Trainable params: 1,445,046\n",
      "Non-trainable params: 0\n",
      "_________________________________________________________________\n",
      "Epoch 1/200\n",
      "450/450 [==============================] - 138s 300ms/step - loss: 1.8811 - accuracy: 0.5320 - val_loss: 1.6246 - val_accuracy: 0.6015\n",
      "Epoch 2/200\n",
      "450/450 [==============================] - 139s 308ms/step - loss: 1.4574 - accuracy: 0.6363 - val_loss: 1.4853 - val_accuracy: 0.6331\n",
      "Epoch 3/200\n",
      "450/450 [==============================] - 144s 320ms/step - loss: 1.2438 - accuracy: 0.6931 - val_loss: 1.3083 - val_accuracy: 0.6741\n",
      "Epoch 4/200\n",
      "450/450 [==============================] - 144s 320ms/step - loss: 1.0225 - accuracy: 0.7457 - val_loss: 1.2064 - val_accuracy: 0.7057\n",
      "Epoch 5/200\n",
      "450/450 [==============================] - 145s 322ms/step - loss: 0.8534 - accuracy: 0.7921 - val_loss: 1.1532 - val_accuracy: 0.7173\n",
      "Epoch 6/200\n",
      "450/450 [==============================] - 143s 318ms/step - loss: 0.7127 - accuracy: 0.8211 - val_loss: 1.1538 - val_accuracy: 0.7306\n",
      "Epoch 7/200\n",
      "450/450 [==============================] - 155s 344ms/step - loss: 0.5904 - accuracy: 0.8516 - val_loss: 1.1844 - val_accuracy: 0.7266\n",
      "Epoch 8/200\n",
      "450/450 [==============================] - 147s 326ms/step - loss: 0.4817 - accuracy: 0.8814 - val_loss: 1.2269 - val_accuracy: 0.7257\n",
      "Epoch 9/200\n",
      "450/450 [==============================] - 147s 327ms/step - loss: 0.3813 - accuracy: 0.9058 - val_loss: 1.2736 - val_accuracy: 0.7173\n",
      "Epoch 10/200\n",
      "450/450 [==============================] - 145s 321ms/step - loss: 0.3085 - accuracy: 0.9226 - val_loss: 1.3057 - val_accuracy: 0.7150\n",
      "71/71 [==============================] - 7s 104ms/step - loss: 1.3057 - accuracy: 0.7150\n",
      "test 정확도: 0.7150489687919617\n"
     ]
    }
   ],
   "source": [
    "# 모델의 구조 설정\n",
    "\n",
    "model = Sequential()\n",
    "model.add(Embedding(1000, 1000))\n",
    "model.add(LSTM(100, activation='tanh'))\n",
    "model.add(Dense(46, activation='softmax'))\n",
    "model.summary()\n",
    "\n",
    "#  8. model 실행 옵션 설정\n",
    "model.compile(loss='categorical_crossentropy', optimizer='adam', metrics=['accuracy'])\n",
    "\n",
    "model_path = './data/model/LSTM.hdf5'\n",
    "\n",
    "early_stopping = EarlyStopping(monitor='val_loss', patience=5)\n",
    "\n",
    "hist = model.fit(X_train, y_train, epochs=200, batch_size=20,\n",
    "                validation_data = (X_test, y_test), callbacks=[early_stopping])\n",
    "\n",
    "print('test 정확도:', model.evaluate(X_test, y_test)[1])"
   ]
  },
  {
   "cell_type": "code",
   "execution_count": 27,
   "metadata": {},
   "outputs": [
    {
     "data": {
      "image/png": "[encoded data removed]",
      "text/plain": [
       "<Figure size 640x480 with 1 Axes>"
      ]
     },
     "metadata": {},
     "output_type": "display_data"
    }
   ],
   "source": [
    "y_vloss = hist.history['val_loss']\n",
    "y_loss = hist.history['loss']\n",
    "\n",
    "x_len = np.arange(len(y_loss))\n",
    "plt.plot(x_len, y_vloss, 'r.-', label='test_loss')\n",
    "plt.plot(x_len, y_loss, 'b.-', label='train_loss')\n",
    "plt.xlabel('epoch')\n",
    "plt.ylabel('loss')\n",
    "plt.legend()\n",
    "plt.show()"
   ]
  },
  {
   "cell_type": "code",
   "execution_count": null,
   "metadata": {},
   "outputs": [],
   "source": [
    "test_news = ['중부 지방은 대체로 맑으나 남부 지방은 구름이 많겠습니다',\n",
    "            '이번 선거에는 누가 이길 수 있을까?',\n",
    "            ' 올 초부터 유동성의 힘으로 주가가 일정하게 상승']"
   ]
  }
 ],
 "metadata": {
  "kernelspec": {
   "display_name": "py_cpu",
   "language": "python",
   "name": "python3"
  },
  "language_info": {
   "codemirror_mode": {
    "name": "ipython",
    "version": 3
   },
   "file_extension": ".py",
   "mimetype": "text/x-python",
   "name": "python",
   "nbconvert_exporter": "python",
   "pygments_lexer": "ipython3",
   "version": "3.9.16"
  },
  "orig_nbformat": 4
 },
 "nbformat": 4,
 "nbformat_minor": 2
}
